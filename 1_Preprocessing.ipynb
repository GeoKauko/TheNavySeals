{
 "cells": [
  {
   "cell_type": "code",
   "execution_count": null,
   "id": "initial_id",
   "metadata": {
    "collapsed": true
   },
   "outputs": [],
   "source": [
    "import os\n",
    "from osgeo import gdal\n",
    "\n",
    "import rasterio\n",
    "from rasterio import windows\n",
    "from rasterio.windows import Window\n",
    "\n",
    "from rasterio.plot import reshape_as_image\n",
    "import rasterio.mask\n",
    "from rasterio.features import rasterize\n",
    "\n",
    "import pandas as pd\n",
    "import geopandas as gpd\n",
    "from shapely.geometry import mapping, Point, Polygon\n",
    "from shapely.ops import cascaded_union\n",
    "\n",
    "import numpy as np\n",
    "#import cv2\n",
    "import matplotlib.pyplot as plt\n"
   ]
  },
  {
   "cell_type": "code",
   "outputs": [],
   "source": [
    "#Change the path to your directory\n",
    "os.chdir('D:/E_2024_P6/P6/ACT')\n",
    "\n",
    "# Open the two rasters\n",
    "dataset = gdal.Open(\"Data/014983717010_01/014983717010_01_P001_PAN/22MAR25134903-P3DS-014983717010_01_P001.tif\")\n",
    "band1 = dataset.GetRasterBand(1)\n",
    "data = band1.ReadAsArray()\n",
    "\n",
    "geotransform = dataset.GetGeoTransform()\n",
    "projection = dataset.GetProjection()\n",
    "\n",
    "plt.imshow(data, cmap='gray')\n",
    "plt.colorbar()\n",
    "plt.title('Band 1')\n",
    "plt.xlabel('Column')\n",
    "plt.ylabel('Row')\n",
    "plt.show()"
   ],
   "metadata": {
    "collapsed": false
   },
   "id": "2f57d372cb5cfa7f",
   "execution_count": null
  },
  {
   "cell_type": "code",
   "outputs": [
    {
     "data": {
      "text/plain": "' input_image_path = \\'Data/014983717010_01/014983717010_01_P001_PAN/22MAR25134903-P3DS-014983717010_01_P001.tif\\'\\noutput_image_path = \\'Output\\'\\n \\n# Function to reduce pixel size from 11 bits to 8 bits for a single image\\ndef reduce_pixel_size(input_path, output_path):\\n    with rasterio.open(input_path) as src:\\n        # Read the image as a numpy array\\n        image_array = src.read(1, masked=True)\\n        # Rescale the pixel values to fit within 8-bit range (0-255)\\n        scaled_array = (image_array / (2**11 - 1) * 255).astype(np.uint8)\\n \\n        # Create a new raster profile with 8-bit pixel depth\\n        profile = src.profile\\n        profile.update(dtype=rasterio.uint8)\\n \\n        # Write the scaled array to a new raster file\\n        with rasterio.open(output_path, \\'w\\', **profile) as dst:\\n            dst.write(scaled_array, 1)\\n \\n# Call the function\\nreduce_pixel_size(input_image_path, output_image_path)\\nprint(f\"Reduced image: {input_image_path} -> {output_image_path}\")'"
     },
     "execution_count": 40,
     "metadata": {},
     "output_type": "execute_result"
    }
   ],
   "source": [
    "# Define the input and output paths for the single image\n",
    "''' input_image_path = 'Data/014983717010_01/014983717010_01_P001_PAN/22MAR25134903-P3DS-014983717010_01_P001.tif'\n",
    "output_image_path = 'Output'\n",
    " \n",
    "# Function to reduce pixel size from 11 bits to 8 bits for a single image\n",
    "def reduce_pixel_size(input_path, output_path):\n",
    "    with rasterio.open(input_path) as src:\n",
    "        # Read the image as a numpy array\n",
    "        image_array = src.read(1, masked=True)\n",
    "        # Rescale the pixel values to fit within 8-bit range (0-255)\n",
    "        scaled_array = (image_array / (2**11 - 1) * 255).astype(np.uint8)\n",
    " \n",
    "        # Create a new raster profile with 8-bit pixel depth\n",
    "        profile = src.profile\n",
    "        profile.update(dtype=rasterio.uint8)\n",
    " \n",
    "        # Write the scaled array to a new raster file\n",
    "        with rasterio.open(output_path, 'w', **profile) as dst:\n",
    "            dst.write(scaled_array, 1)\n",
    " \n",
    "# Call the function\n",
    "reduce_pixel_size(input_image_path, output_image_path)\n",
    "print(f\"Reduced image: {input_image_path} -> {output_image_path}\")'''"
   ],
   "metadata": {
    "collapsed": false,
    "ExecuteTime": {
     "end_time": "2024-06-11T11:38:16.079263Z",
     "start_time": "2024-06-11T11:38:16.065474Z"
    }
   },
   "id": "9c4f088dfaba5e64",
   "execution_count": 40
  },
  {
   "cell_type": "code",
   "outputs": [],
   "source": [
    "# Get image dimensions\n",
    "width = dataset.RasterXSize\n",
    "height = dataset.RasterYSize\n",
    "# print(f'Image width: {width}, height: {height}')"
   ],
   "metadata": {
    "collapsed": false
   },
   "id": "3a60eafce4b991b9",
   "execution_count": null
  },
  {
   "cell_type": "code",
   "outputs": [],
   "source": [
    "# Define the size of each part\n",
    "part_width = 320\n",
    "part_height = 320\n",
    "\n",
    "# Calculate the number of parts\n",
    "num_parts_x = width // part_width\n",
    "num_parts_y = height // part_height"
   ],
   "metadata": {
    "collapsed": false
   },
   "id": "533602bded185cf0",
   "execution_count": null
  },
  {
   "cell_type": "code",
   "outputs": [],
   "source": [
    "# Create output directory\n",
    "output_dir = 'output_parts'\n",
    "os.makedirs(output_dir, exist_ok=True)"
   ],
   "metadata": {
    "collapsed": false
   },
   "id": "2196a97c28a59157",
   "execution_count": null
  },
  {
   "cell_type": "code",
   "outputs": [],
   "source": [
    "if dataset is not None: \n",
    "    print (\"band count: \" + str(dataset.RasterCount))\n",
    "bands = dataset.RasterCount"
   ],
   "metadata": {
    "collapsed": false
   },
   "id": "9cfef4f652c3eabb",
   "execution_count": null
  },
  {
   "cell_type": "code",
   "outputs": [],
   "source": [
    "def split_and_save_image(dataset, part_width, part_height, output_dir):\n",
    "    # Get image dimensions\n",
    "    width = dataset.RasterXSize\n",
    "    height = dataset.RasterYSize\n",
    "    \n",
    "    # Calculate the number of parts\n",
    "    num_parts_x = width // part_width\n",
    "    num_parts_y = height // part_height\n",
    "\n",
    "    # Get the number of bands\n",
    "    bands = dataset.RasterCount\n",
    "\n",
    "    # Split the image and save\n",
    "    for i in range(num_parts_x):\n",
    "        for j in range(num_parts_y):\n",
    "            x_offset = i * part_width\n",
    "            y_offset = j * part_height\n",
    "\n",
    "            # Read the split region\n",
    "            part = dataset.ReadAsArray(x_offset, y_offset, part_width, part_height)\n",
    "            \n",
    "            # Expand dimensions if there's only one band\n",
    "            if bands == 1:\n",
    "               part = np.expand_dims(part, axis=0)\n",
    "\n",
    "            # Create a new GDAL dataset to save the split part\n",
    "            driver = gdal.GetDriverByName('GTiff')\n",
    "            output_path = os.path.join(output_dir, f'part_{i}_{j}.tif')\n",
    "            out_dataset = driver.Create(output_path, part_width, part_height, bands, gdal.GDT_UInt16)\n",
    "           \n",
    "            # Write data to the new dataset\n",
    "            for band in range(bands):\n",
    "                out_band = out_dataset.GetRasterBand(band + 1)\n",
    "                out_band.WriteArray(part[band])\n",
    "            \n",
    "            # Set georeference and projection\n",
    "            geo_transform = list(dataset.GetGeoTransform())\n",
    "            geo_transform[0] += x_offset * geo_transform[1]\n",
    "            geo_transform[3] += y_offset * geo_transform[5]\n",
    "            out_dataset.SetGeoTransform(tuple(geo_transform))\n",
    "            out_dataset.SetProjection(dataset.GetProjection())\n",
    "\n",
    "            # Save and close\n",
    "            out_dataset.FlushCache()\n",
    "            del out_dataset\n",
    "\n",
    "    # Close the original dataset\n",
    "    del dataset\n",
    "\n",
    "# Example usage:\n",
    "input_image = \"Data/014983717010_01/014983717010_01_P001_PAN/22MAR25134903-P3DS-014983717010_01_P001.tif\"\n",
    "output_directory = \"output_parts\"\n",
    "part_width = 320\n",
    "part_height = 320\n",
    "\n",
    "# Open the dataset\n",
    "dataset = gdal.Open(input_image)\n",
    "\n",
    "# Split and save the image\n",
    "split_and_save_image(dataset, part_width, part_height, output_directory)"
   ],
   "metadata": {
    "collapsed": false
   },
   "id": "1a6cc64851ff34bc",
   "execution_count": null
  },
  {
   "cell_type": "code",
   "outputs": [],
   "source": [
    "# Define the directory containing the images\n",
    "image_directory = 'D:\\E_2024_P6\\P6\\ACT\\output_parts'\n",
    "\n",
    "# Function to check if an image contains any 0 values\n",
    "def contains_zero(image_path):\n",
    "    with rasterio.open(image_path) as src:\n",
    "        # Read the image as a numpy array\n",
    "        image_array = src.read(1)  # Assuming a single band image\n",
    "        # Check if the array contains any zero values\n",
    "        return (image_array == 0).any()\n",
    " \n",
    "# Iterate through images and remove those containing 0 values\n",
    "def remove_images_with_zero_values(directory):\n",
    "    for filename in os.listdir(directory):\n",
    "        if filename.endswith(('.tif', '.tiff')):  # Add any other raster image formats you need\n",
    "            file_path = os.path.join(directory, filename)\n",
    "            if contains_zero(file_path):\n",
    "                os.remove(file_path)\n",
    "                #print(f\"Removed image: {file_path}\")\n",
    " \n",
    "# Call the function\n",
    "remove_images_with_zero_values(image_directory)"
   ],
   "metadata": {
    "collapsed": false
   },
   "id": "350fd1195fe683dc",
   "execution_count": null
  }
 ],
 "metadata": {
  "kernelspec": {
   "display_name": "Python 3",
   "language": "python",
   "name": "python3"
  },
  "language_info": {
   "codemirror_mode": {
    "name": "ipython",
    "version": 2
   },
   "file_extension": ".py",
   "mimetype": "text/x-python",
   "name": "python",
   "nbconvert_exporter": "python",
   "pygments_lexer": "ipython2",
   "version": "2.7.6"
  }
 },
 "nbformat": 4,
 "nbformat_minor": 5
}
