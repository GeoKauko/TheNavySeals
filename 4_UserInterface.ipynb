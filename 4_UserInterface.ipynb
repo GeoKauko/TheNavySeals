{
 "cells": [
  {
   "cell_type": "markdown",
   "source": [
    "# User Interface"
   ],
   "metadata": {
    "collapsed": false
   },
   "id": "700cfe6a90197d89"
  },
  {
   "cell_type": "markdown",
   "source": [
    "### Import libraries"
   ],
   "metadata": {
    "collapsed": false
   },
   "id": "5dbcdebae0eb9c10"
  },
  {
   "cell_type": "code",
   "execution_count": 9,
   "id": "initial_id",
   "metadata": {
    "ExecuteTime": {
     "end_time": "2024-06-24T12:54:44.442664Z",
     "start_time": "2024-06-24T12:54:44.424075Z"
    }
   },
   "outputs": [],
   "source": [
    "from osgeo import gdal\n",
    "import tkinter as tk\n",
    "from tkinter import filedialog, Toplevel, Label\n",
    "from PIL import Image, ImageTk\n",
    "import numpy as np\n",
    "import os\n",
    "import tkinter as tk\n",
    "from PIL import Image, ImageTk, ImageEnhance"
   ]
  },
  {
   "cell_type": "markdown",
   "source": [
    "### Set up the working path"
   ],
   "metadata": {
    "collapsed": false
   },
   "id": "7e8820c627100894"
  },
  {
   "cell_type": "code",
   "execution_count": 10,
   "id": "18e7fe39-24c8-4c62-86cc-26f085315891",
   "metadata": {
    "ExecuteTime": {
     "end_time": "2024-06-24T12:54:52.082930Z",
     "start_time": "2024-06-24T12:54:52.064476Z"
    }
   },
   "outputs": [],
   "source": [
    "os.chdir('D:\\E_2024_P6\\SEAL')"
   ]
  },
  {
   "cell_type": "markdown",
   "source": [
    "## Create the UserInterface"
   ],
   "metadata": {
    "collapsed": false
   },
   "id": "bb69b36bf1b88bcc"
  },
  {
   "cell_type": "code",
   "execution_count": 11,
   "id": "d319d09339e9aee1",
   "metadata": {
    "collapsed": false,
    "ExecuteTime": {
     "end_time": "2024-06-24T13:07:29.729779Z",
     "start_time": "2024-06-24T13:07:21.762101Z"
    }
   },
   "outputs": [],
   "source": [
    "# Global variable to store the selected image\n",
    "selected_image = None\n",
    "\n",
    "class App(tk.Tk):\n",
    "    def __init__(self):\n",
    "        super().__init__()\n",
    "        self.title(\"NavySeal\")\n",
    "        self.geometry(\"800x600\")\n",
    "\n",
    "        # Create a canvas\n",
    "        self.canvas = tk.Canvas(self, width=800, height=600)\n",
    "        self.canvas.pack(fill=\"both\", expand=True)\n",
    "\n",
    "        # Load the background image\n",
    "        self.bg_image = Image.open(\"seals.jpg\")\n",
    "        self.bg_image = self.bg_image.resize((800, 600), Image.LANCZOS)\n",
    "\n",
    "        # Adjust the transparency of the image\n",
    "        self.bg_image = self.bg_image.convert(\"RGBA\")\n",
    "        alpha = self.bg_image.split()[3]\n",
    "        alpha = ImageEnhance.Brightness(alpha).enhance(0.5)  # Adjust transparency to 50%\n",
    "        self.bg_image.putalpha(alpha)\n",
    "\n",
    "        # Convert the image with transparency to PhotoImage\n",
    "        self.bg_photo = ImageTk.PhotoImage(self.bg_image)\n",
    "\n",
    "        # Add the background image to the canvas\n",
    "        self.canvas.create_image(0, 0, image=self.bg_photo, anchor=\"nw\")\n",
    "\n",
    "        # Keep a reference to the image to prevent it from being garbage collected\n",
    "        self.canvas.image = self.bg_photo\n",
    "\n",
    "        # Add other widgets on top of the canvas\n",
    "        self.panel = tk.Label(self)\n",
    "        self.canvas.create_window(400, 300, window=self.panel)\n",
    "\n",
    "        self.btn_select = tk.Button(self, text=\"Select Image\", command=self.select_image)\n",
    "        self.canvas.create_window(400, 450, window=self.btn_select)\n",
    "\n",
    "        self.btn_process = tk.Button(self, text=\"Process Data\", command=self.process_data)\n",
    "        self.canvas.create_window(400, 500, window=self.btn_process)\n",
    "\n",
    "        self.result_label = tk.Label(self, text=\"File path: \")\n",
    "        self.canvas.create_window(400, 550, window=self.result_label)\n",
    "\n",
    "    def read_and_display_tif(self, file_path):\n",
    "        global selected_image\n",
    "        try:\n",
    "            selected_image = Image.open(file_path)\n",
    "            selected_image = selected_image.resize((500, 500))  # Resize to fit the Tkinter window\n",
    "            img_tk = ImageTk.PhotoImage(selected_image)\n",
    "            self.panel.config(image=img_tk)\n",
    "            self.panel.image = img_tk\n",
    "\n",
    "            self.result_label.config(text=f\"File path: {file_path}\")\n",
    "        except Exception as e:\n",
    "            print(f\"Error reading TIF file: {e}\")\n",
    "\n",
    "    def select_image(self):\n",
    "        file_path = filedialog.askopenfilename(filetypes=[(\"TIF Files\", \"*.tif\")])\n",
    "        if file_path:\n",
    "            self.read_and_display_tif(file_path)\n",
    "\n",
    "    def process_data(self):\n",
    "        global selected_image\n",
    "        if selected_image is None:\n",
    "            self.result_label.config(text=\"No image selected\")\n",
    "            return\n",
    "\n",
    "        # Display \"Please Wait\" popup\n",
    "        please_wait_popup = Toplevel(self)\n",
    "        please_wait_popup.title(\"Processing\")\n",
    "        please_wait_label = Label(please_wait_popup, text=\"Currently in Navy SEALs, please wait.\")\n",
    "        please_wait_label.pack(padx=10, pady=10)\n",
    "\n",
    "        # Simulate data processing\n",
    "        self.after(2000, lambda: self.finish_processing(please_wait_popup))\n",
    "\n",
    "    def finish_processing(self, popup):\n",
    "        global selected_image\n",
    "        # Close the popup\n",
    "        popup.destroy()\n",
    "\n",
    "        # Simulate processed data (for now just creating an inverted image)\n",
    "        # Replace this with actual data processing logic\n",
    "        processed_data = np.invert(np.array(selected_image))  # Example: Invert the selected image\n",
    "        img = Image.fromarray(processed_data)\n",
    "        img = img.resize((500, 500))  # Resize to fit the Tkinter window\n",
    "        img_tk = ImageTk.PhotoImage(img)\n",
    "        self.panel.config(image=img_tk)\n",
    "        self.panel.image = img_tk\n",
    "\n",
    "        self.result_label.config(text=\"Processing complete\")\n",
    "\n",
    "if __name__ == \"__main__\":\n",
    "    app = App()\n",
    "    app.mainloop()"
   ]
  }
 ],
 "metadata": {
  "kernelspec": {
   "display_name": "Python 3 (ipykernel)",
   "language": "python",
   "name": "python3"
  },
  "language_info": {
   "codemirror_mode": {
    "name": "ipython",
    "version": 3
   },
   "file_extension": ".py",
   "mimetype": "text/x-python",
   "name": "python",
   "nbconvert_exporter": "python",
   "pygments_lexer": "ipython3",
   "version": "3.9.19"
  }
 },
 "nbformat": 4,
 "nbformat_minor": 5
}
