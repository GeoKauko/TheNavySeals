{
 "cells": [
  {
   "cell_type": "code",
   "execution_count": null,
   "id": "initial_id",
   "metadata": {
    "collapsed": true
   },
   "outputs": [],
   "source": [
    "from osgeo import gdal\n",
    "import tkinter as tk\n",
    "from tkinter import filedialog, Toplevel, Label\n",
    "from PIL import Image, ImageTk\n",
    "import numpy as np"
   ]
  },
  {
   "cell_type": "code",
   "outputs": [],
   "source": [
    "def read_and_display_tif(file_path):\n",
    "    # Open the TIF image\n",
    "    dataset = gdal.Open(file_path)\n",
    "    \n",
    "    if dataset is None:\n",
    "        print(f\"Unable to open file: {file_path}\")\n",
    "        return"
   ],
   "metadata": {
    "collapsed": false
   },
   "id": "839fa883f8e6bb8",
   "execution_count": null
  },
  {
   "cell_type": "code",
   "outputs": [],
   "source": [
    "# Mock function for reading and displaying TIF (replace with actual implementation)\n",
    "def read_and_display_tif(file_path):\n",
    "    try:\n",
    "        img = Image.open(file_path)\n",
    "        img = img.resize((500, 500))  # Resize to fit the Tkinter window\n",
    "        img_tk = ImageTk.PhotoImage(img)\n",
    "        panel.config(image=img_tk)\n",
    "        panel.image = img_tk\n",
    "\n",
    "        result_label.config(text=f\"File path: {file_path}\")\n",
    "    except Exception as e:\n",
    "        print(f\"Error reading TIF file: {e}\")\n",
    "\n",
    "def select_image():\n",
    "    file_path = filedialog.askopenfilename(filetypes=[(\"TIF Files\", \"*.tif\")])\n",
    "    if file_path:\n",
    "        read_and_display_tif(file_path)\n",
    "\n",
    "def process_data():\n",
    "    # Mock data processing (replace with actual processing logic)\n",
    "    print(\"Processing data...\")\n",
    "\n",
    "    # Display \"Please Wait\" popup\n",
    "    please_wait_popup = Toplevel(root)\n",
    "    please_wait_popup.title(\"Processing\")\n",
    "    please_wait_label = Label(please_wait_popup, text=\"Please wait...\")\n",
    "    please_wait_label.pack(padx=10, pady=10)\n",
    "\n",
    "    # Simulate data processing\n",
    "    root.after(2000, lambda: finish_processing(please_wait_popup))\n",
    "\n",
    "def finish_processing(popup):\n",
    "    # Close the popup\n",
    "    popup.destroy()\n",
    "\n",
    "    # Simulate processed data (for now just creating an inverted image)\n",
    "    # Replace this with actual data processing logic\n",
    "    processed_data = np.invert(np.array(panel.image))  # Example: Invert the displayed image\n",
    "    img = Image.fromarray(processed_data)\n",
    "    img = img.resize((500, 500))  # Resize to fit the Tkinter window\n",
    "    img_tk = ImageTk.PhotoImage(img)\n",
    "    panel.config(image=img_tk)\n",
    "    panel.image = img_tk\n",
    "\n",
    "    result_label.config(text=\"Processing complete\")\n",
    "\n",
    "# Create the main window\n",
    "root = tk.Tk()\n",
    "root.title(\"NavySeal\")\n",
    "\n",
    "# Create and place a label to display the selected image\n",
    "panel = tk.Label(root)\n",
    "panel.pack(padx=10, pady=10)\n",
    "\n",
    "# Create and place a button to select an image\n",
    "btn_select = tk.Button(root, text=\"Select Image\", command=select_image)\n",
    "btn_select.pack(pady=10)\n",
    "\n",
    "# Create and place a button to process the image\n",
    "btn_process = tk.Button(root, text=\"Process Data\", command=process_data)\n",
    "btn_process.pack(pady=10)\n",
    "\n",
    "# Create and place a label to display the file path or prediction result\n",
    "result_label = tk.Label(root, text=\"File path: \")\n",
    "result_label.pack(pady=10)\n",
    "\n",
    "# Enter the main loop\n",
    "root.mainloop()"
   ],
   "metadata": {
    "collapsed": false
   },
   "id": "aaa38b79c613cb6b",
   "execution_count": null
  },
  {
   "cell_type": "code",
   "outputs": [],
   "source": [],
   "metadata": {
    "collapsed": false
   },
   "id": "bdea36cb38c9ff8b"
  }
 ],
 "metadata": {
  "kernelspec": {
   "display_name": "Python 3",
   "language": "python",
   "name": "python3"
  },
  "language_info": {
   "codemirror_mode": {
    "name": "ipython",
    "version": 2
   },
   "file_extension": ".py",
   "mimetype": "text/x-python",
   "name": "python",
   "nbconvert_exporter": "python",
   "pygments_lexer": "ipython2",
   "version": "2.7.6"
  }
 },
 "nbformat": 4,
 "nbformat_minor": 5
}
