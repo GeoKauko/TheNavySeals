{
 "cells": [
  {
   "cell_type": "code",
   "execution_count": 18,
   "id": "initial_id",
   "metadata": {},
   "outputs": [],
   "source": [
    "from osgeo import gdal\n",
    "import tkinter as tk\n",
    "from tkinter import filedialog, Toplevel, Label\n",
    "from PIL import Image, ImageTk\n",
    "import numpy as np\n",
    "import os\n",
    "import tkinter as tk\n",
    "from PIL import Image, ImageTk, ImageEnhance"
   ]
  },
  {
   "cell_type": "code",
   "execution_count": 19,
   "id": "18e7fe39-24c8-4c62-86cc-26f085315891",
   "metadata": {},
   "outputs": [],
   "source": [
    "os.chdir('D:\\E_2024_P6\\SEAL')"
   ]
  },
  {
   "cell_type": "code",
   "execution_count": 20,
   "id": "839fa883f8e6bb8",
   "metadata": {
    "collapsed": false,
    "jupyter": {
     "outputs_hidden": false
    }
   },
   "outputs": [],
   "source": [
    "def read_and_display_tif(file_path):\n",
    "    # Open the TIF image\n",
    "    dataset = gdal.Open(file_path)\n",
    "    \n",
    "    if dataset is None:\n",
    "        print(f\"Unable to open file: {file_path}\")\n",
    "        return"
   ]
  },
  {
   "cell_type": "code",
   "execution_count": 21,
   "id": "d319d09339e9aee1",
   "metadata": {
    "collapsed": false,
    "jupyter": {
     "outputs_hidden": false
    }
   },
   "outputs": [
    {
     "ename": "TclError",
     "evalue": "image \"pyimage3\" doesn't exist",
     "output_type": "error",
     "traceback": [
      "\u001b[1;31m---------------------------------------------------------------------------\u001b[0m",
      "\u001b[1;31mTclError\u001b[0m                                  Traceback (most recent call last)",
      "Cell \u001b[1;32mIn[21], line 96\u001b[0m\n\u001b[0;32m     93\u001b[0m         \u001b[38;5;28mself\u001b[39m\u001b[38;5;241m.\u001b[39mresult_label\u001b[38;5;241m.\u001b[39mconfig(text\u001b[38;5;241m=\u001b[39m\u001b[38;5;124m\"\u001b[39m\u001b[38;5;124mProcessing complete\u001b[39m\u001b[38;5;124m\"\u001b[39m)\n\u001b[0;32m     95\u001b[0m \u001b[38;5;28;01mif\u001b[39;00m \u001b[38;5;18m__name__\u001b[39m \u001b[38;5;241m==\u001b[39m \u001b[38;5;124m\"\u001b[39m\u001b[38;5;124m__main__\u001b[39m\u001b[38;5;124m\"\u001b[39m:\n\u001b[1;32m---> 96\u001b[0m     app \u001b[38;5;241m=\u001b[39m \u001b[43mApp\u001b[49m\u001b[43m(\u001b[49m\u001b[43m)\u001b[49m\n\u001b[0;32m     97\u001b[0m     app\u001b[38;5;241m.\u001b[39mmainloop()\n",
      "Cell \u001b[1;32mIn[21], line 28\u001b[0m, in \u001b[0;36mApp.__init__\u001b[1;34m(self)\u001b[0m\n\u001b[0;32m     25\u001b[0m \u001b[38;5;28mself\u001b[39m\u001b[38;5;241m.\u001b[39mbg_photo \u001b[38;5;241m=\u001b[39m ImageTk\u001b[38;5;241m.\u001b[39mPhotoImage(\u001b[38;5;28mself\u001b[39m\u001b[38;5;241m.\u001b[39mbg_image)\n\u001b[0;32m     27\u001b[0m \u001b[38;5;66;03m# Add the background image to the canvas\u001b[39;00m\n\u001b[1;32m---> 28\u001b[0m \u001b[38;5;28;43mself\u001b[39;49m\u001b[38;5;241;43m.\u001b[39;49m\u001b[43mcanvas\u001b[49m\u001b[38;5;241;43m.\u001b[39;49m\u001b[43mcreate_image\u001b[49m\u001b[43m(\u001b[49m\u001b[38;5;241;43m0\u001b[39;49m\u001b[43m,\u001b[49m\u001b[43m \u001b[49m\u001b[38;5;241;43m0\u001b[39;49m\u001b[43m,\u001b[49m\u001b[43m \u001b[49m\u001b[43mimage\u001b[49m\u001b[38;5;241;43m=\u001b[39;49m\u001b[38;5;28;43mself\u001b[39;49m\u001b[38;5;241;43m.\u001b[39;49m\u001b[43mbg_photo\u001b[49m\u001b[43m,\u001b[49m\u001b[43m \u001b[49m\u001b[43manchor\u001b[49m\u001b[38;5;241;43m=\u001b[39;49m\u001b[38;5;124;43m\"\u001b[39;49m\u001b[38;5;124;43mnw\u001b[39;49m\u001b[38;5;124;43m\"\u001b[39;49m\u001b[43m)\u001b[49m\n\u001b[0;32m     30\u001b[0m \u001b[38;5;66;03m# Keep a reference to the image to prevent it from being garbage collected\u001b[39;00m\n\u001b[0;32m     31\u001b[0m \u001b[38;5;28mself\u001b[39m\u001b[38;5;241m.\u001b[39mcanvas\u001b[38;5;241m.\u001b[39mimage \u001b[38;5;241m=\u001b[39m \u001b[38;5;28mself\u001b[39m\u001b[38;5;241m.\u001b[39mbg_photo\n",
      "File \u001b[1;32mD:\\E_2024_P6\\P6\\ACT\\Software\\envs\\Conda\\lib\\tkinter\\__init__.py:2790\u001b[0m, in \u001b[0;36mCanvas.create_image\u001b[1;34m(self, *args, **kw)\u001b[0m\n\u001b[0;32m   2788\u001b[0m \u001b[38;5;28;01mdef\u001b[39;00m \u001b[38;5;21mcreate_image\u001b[39m(\u001b[38;5;28mself\u001b[39m, \u001b[38;5;241m*\u001b[39margs, \u001b[38;5;241m*\u001b[39m\u001b[38;5;241m*\u001b[39mkw):\n\u001b[0;32m   2789\u001b[0m \u001b[38;5;250m    \u001b[39m\u001b[38;5;124;03m\"\"\"Create image item with coordinates x1,y1.\"\"\"\u001b[39;00m\n\u001b[1;32m-> 2790\u001b[0m     \u001b[38;5;28;01mreturn\u001b[39;00m \u001b[38;5;28;43mself\u001b[39;49m\u001b[38;5;241;43m.\u001b[39;49m\u001b[43m_create\u001b[49m\u001b[43m(\u001b[49m\u001b[38;5;124;43m'\u001b[39;49m\u001b[38;5;124;43mimage\u001b[39;49m\u001b[38;5;124;43m'\u001b[39;49m\u001b[43m,\u001b[49m\u001b[43m \u001b[49m\u001b[43margs\u001b[49m\u001b[43m,\u001b[49m\u001b[43m \u001b[49m\u001b[43mkw\u001b[49m\u001b[43m)\u001b[49m\n",
      "File \u001b[1;32mD:\\E_2024_P6\\P6\\ACT\\Software\\envs\\Conda\\lib\\tkinter\\__init__.py:2776\u001b[0m, in \u001b[0;36mCanvas._create\u001b[1;34m(self, itemType, args, kw)\u001b[0m\n\u001b[0;32m   2774\u001b[0m \u001b[38;5;28;01melse\u001b[39;00m:\n\u001b[0;32m   2775\u001b[0m     cnf \u001b[38;5;241m=\u001b[39m {}\n\u001b[1;32m-> 2776\u001b[0m \u001b[38;5;28;01mreturn\u001b[39;00m \u001b[38;5;28mself\u001b[39m\u001b[38;5;241m.\u001b[39mtk\u001b[38;5;241m.\u001b[39mgetint(\u001b[38;5;28;43mself\u001b[39;49m\u001b[38;5;241;43m.\u001b[39;49m\u001b[43mtk\u001b[49m\u001b[38;5;241;43m.\u001b[39;49m\u001b[43mcall\u001b[49m\u001b[43m(\u001b[49m\n\u001b[0;32m   2777\u001b[0m \u001b[43m    \u001b[49m\u001b[38;5;28;43mself\u001b[39;49m\u001b[38;5;241;43m.\u001b[39;49m\u001b[43m_w\u001b[49m\u001b[43m,\u001b[49m\u001b[43m \u001b[49m\u001b[38;5;124;43m'\u001b[39;49m\u001b[38;5;124;43mcreate\u001b[39;49m\u001b[38;5;124;43m'\u001b[39;49m\u001b[43m,\u001b[49m\u001b[43m \u001b[49m\u001b[43mitemType\u001b[49m\u001b[43m,\u001b[49m\n\u001b[0;32m   2778\u001b[0m \u001b[43m    \u001b[49m\u001b[38;5;241;43m*\u001b[39;49m\u001b[43m(\u001b[49m\u001b[43margs\u001b[49m\u001b[43m \u001b[49m\u001b[38;5;241;43m+\u001b[39;49m\u001b[43m \u001b[49m\u001b[38;5;28;43mself\u001b[39;49m\u001b[38;5;241;43m.\u001b[39;49m\u001b[43m_options\u001b[49m\u001b[43m(\u001b[49m\u001b[43mcnf\u001b[49m\u001b[43m,\u001b[49m\u001b[43m \u001b[49m\u001b[43mkw\u001b[49m\u001b[43m)\u001b[49m\u001b[43m)\u001b[49m\u001b[43m)\u001b[49m)\n",
      "\u001b[1;31mTclError\u001b[0m: image \"pyimage3\" doesn't exist"
     ]
    }
   ],
   "source": [
    "# Global variable to store the selected image\n",
    "selected_image = None\n",
    "\n",
    "class App(tk.Tk):\n",
    "    def __init__(self):\n",
    "        super().__init__()\n",
    "        self.title(\"NavySeal\")\n",
    "        self.geometry(\"800x600\")\n",
    "\n",
    "        # Create a canvas\n",
    "        self.canvas = tk.Canvas(self, width=800, height=600)\n",
    "        self.canvas.pack(fill=\"both\", expand=True)\n",
    "\n",
    "        # Load the background image\n",
    "        self.bg_image = Image.open(\"seals.jpg\")\n",
    "        self.bg_image = self.bg_image.resize((800, 600), Image.LANCZOS)\n",
    "\n",
    "        # Adjust the transparency of the image\n",
    "        self.bg_image = self.bg_image.convert(\"RGBA\")\n",
    "        alpha = self.bg_image.split()[3]\n",
    "        alpha = ImageEnhance.Brightness(alpha).enhance(0.5)  # Adjust transparency to 50%\n",
    "        self.bg_image.putalpha(alpha)\n",
    "\n",
    "        # Convert the image with transparency to PhotoImage\n",
    "        self.bg_photo = ImageTk.PhotoImage(self.bg_image)\n",
    "\n",
    "        # Add the background image to the canvas\n",
    "        self.canvas.create_image(0, 0, image=self.bg_photo, anchor=\"nw\")\n",
    "\n",
    "        # Keep a reference to the image to prevent it from being garbage collected\n",
    "        self.canvas.image = self.bg_photo\n",
    "\n",
    "        # Add other widgets on top of the canvas\n",
    "        self.panel = tk.Label(self)\n",
    "        self.canvas.create_window(400, 300, window=self.panel)\n",
    "\n",
    "        self.btn_select = tk.Button(self, text=\"Select Image\", command=self.select_image)\n",
    "        self.canvas.create_window(400, 450, window=self.btn_select)\n",
    "\n",
    "        self.btn_process = tk.Button(self, text=\"Process Data\", command=self.process_data)\n",
    "        self.canvas.create_window(400, 500, window=self.btn_process)\n",
    "\n",
    "        self.result_label = tk.Label(self, text=\"File path: \")\n",
    "        self.canvas.create_window(400, 550, window=self.result_label)\n",
    "\n",
    "    def read_and_display_tif(self, file_path):\n",
    "        global selected_image\n",
    "        try:\n",
    "            selected_image = Image.open(file_path)\n",
    "            selected_image = selected_image.resize((500, 500))  # Resize to fit the Tkinter window\n",
    "            img_tk = ImageTk.PhotoImage(selected_image)\n",
    "            self.panel.config(image=img_tk)\n",
    "            self.panel.image = img_tk\n",
    "\n",
    "            self.result_label.config(text=f\"File path: {file_path}\")\n",
    "        except Exception as e:\n",
    "            print(f\"Error reading TIF file: {e}\")\n",
    "\n",
    "    def select_image(self):\n",
    "        file_path = filedialog.askopenfilename(filetypes=[(\"TIF Files\", \"*.tif\")])\n",
    "        if file_path:\n",
    "            self.read_and_display_tif(file_path)\n",
    "\n",
    "    def process_data(self):\n",
    "        global selected_image\n",
    "        if selected_image is None:\n",
    "            self.result_label.config(text=\"No image selected\")\n",
    "            return\n",
    "\n",
    "        # Display \"Please Wait\" popup\n",
    "        please_wait_popup = Toplevel(self)\n",
    "        please_wait_popup.title(\"Processing\")\n",
    "        please_wait_label = Label(please_wait_popup, text=\"Please wait...\")\n",
    "        please_wait_label.pack(padx=10, pady=10)\n",
    "\n",
    "        # Simulate data processing\n",
    "        self.after(2000, lambda: self.finish_processing(please_wait_popup))\n",
    "\n",
    "    def finish_processing(self, popup):\n",
    "        global selected_image\n",
    "        # Close the popup\n",
    "        popup.destroy()\n",
    "\n",
    "        # Simulate processed data (for now just creating an inverted image)\n",
    "        # Replace this with actual data processing logic\n",
    "        processed_data = np.invert(np.array(selected_image))  # Example: Invert the selected image\n",
    "        img = Image.fromarray(processed_data)\n",
    "        img = img.resize((500, 500))  # Resize to fit the Tkinter window\n",
    "        img_tk = ImageTk.PhotoImage(img)\n",
    "        self.panel.config(image=img_tk)\n",
    "        self.panel.image = img_tk\n",
    "\n",
    "        self.result_label.config(text=\"Processing complete\")\n",
    "\n",
    "if __name__ == \"__main__\":\n",
    "    app = App()\n",
    "    app.mainloop()"
   ]
  },
  {
   "cell_type": "code",
   "execution_count": null,
   "id": "bdea36cb38c9ff8b",
   "metadata": {
    "collapsed": false,
    "jupyter": {
     "outputs_hidden": false
    }
   },
   "outputs": [],
   "source": []
  }
 ],
 "metadata": {
  "kernelspec": {
   "display_name": "Python 3 (ipykernel)",
   "language": "python",
   "name": "python3"
  },
  "language_info": {
   "codemirror_mode": {
    "name": "ipython",
    "version": 3
   },
   "file_extension": ".py",
   "mimetype": "text/x-python",
   "name": "python",
   "nbconvert_exporter": "python",
   "pygments_lexer": "ipython3",
   "version": "3.9.19"
  }
 },
 "nbformat": 4,
 "nbformat_minor": 5
}
