{
  "nbformat": 4,
  "nbformat_minor": 0,
  "metadata": {
    "colab": {
      "provenance": [],
      "authorship_tag": "ABX9TyO8sanHxOnGND/XH7zFKZWy",
      "include_colab_link": true
    },
    "kernelspec": {
      "name": "python3",
      "display_name": "Python 3"
    },
    "language_info": {
      "name": "python"
    }
  },
  "cells": [
    {
      "cell_type": "markdown",
      "metadata": {
        "id": "view-in-github",
        "colab_type": "text"
      },
      "source": [
        "<a href=\"https://colab.research.google.com/github/GeoKauko/TheNavySeals/blob/main/1_Preprocessing_integrated.ipynb\" target=\"_parent\"><img src=\"https://colab.research.google.com/assets/colab-badge.svg\" alt=\"Open In Colab\"/></a>"
      ]
    },
    {
      "cell_type": "code",
      "execution_count": null,
      "metadata": {
        "id": "dyKx_RuY9L7f"
      },
      "outputs": [],
      "source": [
        "# Import necessary libraries\n",
        "\n",
        "## Import libraries\n",
        "import os\n",
        "from osgeo import gdal\n",
        "\n",
        "import rasterio\n",
        "from rasterio import windows\n",
        "from rasterio.windows import Window\n",
        "\n",
        "from rasterio.plot import reshape_as_image\n",
        "import rasterio.mask\n",
        "from rasterio.features import rasterize\n",
        "\n",
        "import pandas as pd\n",
        "import geopandas as gpd\n",
        "from shapely.geometry import mapping, Point, box, Polygon\n",
        "from shapely.ops import cascaded_union\n",
        "\n",
        "import numpy as np\n",
        "\n",
        "from rasterio.features import geometry_mask\n",
        "from shapely.geometry import box\n",
        "from rasterio.features import geometry_mask\n"
      ]
    },
    {
      "cell_type": "code",
      "source": [
        "from google.colab import drive\n",
        "drive.mount('/content/drive')\n",
        "\n",
        "input_path = '/content/drive/My Drive/data/input'\n",
        "output_path = '/content/drive/My Drive/data/output'\n",
        "\n",
        "pansharpened_path = '/content/drive/My Drive/data/input/pansharpened'\n",
        "pansharpened_reduced_path = '/content/drive/My Drive/data/input/pansharpened_reduced'\n"
      ],
      "metadata": {
        "id": "7sfFiemxubfj"
      },
      "execution_count": null,
      "outputs": []
    },
    {
      "cell_type": "code",
      "source": [
        "## Resize pansharpened images to 8-bit\n",
        "\n",
        "# Function to reduce pixel size from 11 bits to 8 bits for a single image\n",
        "def reduce_pixel_size(input_path, output_path):\n",
        "    # Ensure the output directory exists\n",
        "    output_dir = os.path.dirname(output_path)\n",
        "    if not os.path.exists(output_dir):\n",
        "        os.makedirs(output_dir)\n",
        "\n",
        "    with rasterio.open(input_path) as src:\n",
        "        # Read the image as a numpy array\n",
        "        image_array = src.read(1, masked=True)\n",
        "\n",
        "        # Rescale the pixel values to fit within 8-bit range (0-255)\n",
        "        scaled_array = (image_array / (2**11 - 1) * 255).astype(np.uint8)\n",
        "\n",
        "        # Create a new raster profile with 8-bit pixel depth\n",
        "        profile = src.profile\n",
        "        profile.update(dtype=rasterio.uint8)\n",
        "\n",
        "        # Write the scaled array to a new raster file\n",
        "        with rasterio.open(output_path, 'w', **profile) as dst:\n",
        "            dst.write(scaled_array, 1)"
      ],
      "metadata": {
        "id": "ccVmVzsg9VQ3"
      },
      "execution_count": null,
      "outputs": []
    },
    {
      "cell_type": "code",
      "source": [
        "## Merge pansharpened images\n",
        "\n",
        "def merge_rasters(input_folder, output_file):\n",
        "    # List to hold the file paths of the rasters to be merged\n",
        "    input_files = []\n",
        "\n",
        "    # Loop through the folder and add all .tif files to the list\n",
        "    for file_name in os.listdir(input_folder):\n",
        "        print(file_name)\n",
        "        if file_name.endswith('.TIF'):\n",
        "            input_files.append(os.path.join(input_folder, file_name))\n",
        "\n",
        "    # Check if we have any input files\n",
        "    if not input_files:\n",
        "        raise FileNotFoundError(\"No .tif files found in the specified folder.\")\n",
        "\n",
        "    # Open the input files\n",
        "    src_files_to_mosaic = []\n",
        "    for file in input_files:\n",
        "        src = gdal.Open(file)\n",
        "        if src:\n",
        "            src_files_to_mosaic.append(src)\n",
        "        else:\n",
        "            print(f\"Failed to open {file}\")\n",
        "\n",
        "    # Create a virtual raster from the input files\n",
        "    vrt = gdal.BuildVRT('temporary.vrt', src_files_to_mosaic)\n",
        "\n",
        "    # Write the virtual raster to a new file\n",
        "    gdal.Translate(output_file, vrt)\n",
        "\n",
        "    # Cleanup\n",
        "    vrt = None\n",
        "    for src in src_files_to_mosaic:\n",
        "        src = None\n",
        "\n",
        "    print(f\"Merged raster saved as {output_file}\")"
      ],
      "metadata": {
        "id": "ACgtGPRN9VM6"
      },
      "execution_count": null,
      "outputs": []
    },
    {
      "cell_type": "code",
      "source": [
        "## Crop to 224x224 px\n",
        "\n",
        "def split_and_save_image(dataset, part_width, part_height, output_dir):\n",
        "    # Get image dimensions\n",
        "    width = dataset.RasterXSize\n",
        "    height = dataset.RasterYSize\n",
        "\n",
        "    # Calculate the number of parts\n",
        "    num_parts_x = width // part_width\n",
        "    num_parts_y = height // part_height\n",
        "\n",
        "    # Get the number of bands\n",
        "    bands = dataset.RasterCount\n",
        "\n",
        "    # Split the image and save\n",
        "    for i in range(num_parts_x):\n",
        "        for j in range(num_parts_y):\n",
        "            x_offset = i * part_width\n",
        "            y_offset = j * part_height\n",
        "\n",
        "            # Read the split region\n",
        "            part = dataset.ReadAsArray(x_offset, y_offset, part_width, part_height)\n",
        "\n",
        "            # Expand dimensions if there's only one band\n",
        "            if bands == 1:\n",
        "               part = np.expand_dims(part, axis=0)\n",
        "\n",
        "            # Create a new GDAL dataset to save the split part\n",
        "            driver = gdal.GetDriverByName('GTiff')\n",
        "            output_path = os.path.join(output_dir, f'part_{i}_{j}.tif')\n",
        "            out_dataset = driver.Create(output_path, part_width, part_height, bands, gdal.GDT_UInt16)\n",
        "\n",
        "            # Write data to the new dataset\n",
        "            for band in range(bands):\n",
        "                out_band = out_dataset.GetRasterBand(band + 1)\n",
        "                out_band.WriteArray(part[band])\n",
        "\n",
        "            # Set georeference and projection\n",
        "            geo_transform = list(dataset.GetGeoTransform())\n",
        "            geo_transform[0] += x_offset * geo_transform[1]\n",
        "            geo_transform[3] += y_offset * geo_transform[5]\n",
        "            out_dataset.SetGeoTransform(tuple(geo_transform))\n",
        "            out_dataset.SetProjection(dataset.GetProjection())\n",
        "\n",
        "            # Save and close\n",
        "            out_dataset.FlushCache()\n",
        "            del out_dataset\n",
        "\n",
        "    # Close the original dataset\n",
        "    del dataset"
      ],
      "metadata": {
        "id": "0sakDhQL9apu"
      },
      "execution_count": null,
      "outputs": []
    },
    {
      "cell_type": "code",
      "source": [
        "## Mask raster\n",
        "\n",
        "def create_polygon_from_pixels(row, col, transform):\n",
        "    \"\"\"\n",
        "    Create a polygon from a center pixel (row, col) and its 24 surrounding pixels (5x5 block).\n",
        "    \"\"\"\n",
        "    # Calculate the coordinates of the top-left corner of the top-left pixel\n",
        "    top_left_x = transform[0] + (col - 2) * transform[1] + (row - 2) * transform[2]\n",
        "    top_left_y = transform[3] + (col - 2) * transform[4] + (row - 2) * transform[5]\n",
        "\n",
        "    # Pixel dimensions\n",
        "    pixel_width = abs(transform[1])\n",
        "    pixel_height = abs(transform[5])\n",
        "\n",
        "    # Calculate the coordinates for the 5x5 block of pixels\n",
        "    polygon_coords = [\n",
        "        (top_left_x, top_left_y),\n",
        "        (top_left_x + 5 * pixel_width, top_left_y),\n",
        "        (top_left_x + 5 * pixel_width, top_left_y - 5 * pixel_height),\n",
        "        (top_left_x, top_left_y - 5 * pixel_height),\n",
        "        (top_left_x, top_left_y)\n",
        "    ]\n",
        "\n",
        "    return Polygon(polygon_coords)\n",
        "\n",
        "def raster_points_to_polygons(raster_path, shape_path):\n",
        "    # Read raster data\n",
        "    raster_dataset = gdal.Open(raster_path)\n",
        "    raster_geotransform = raster_dataset.GetGeoTransform()\n",
        "\n",
        "    # Read shapefile\n",
        "    shapefile_gdf = gpd.read_file(shape_path)\n",
        "    shape_crs = shapefile_gdf.crs\n",
        "\n",
        "    polygons = []\n",
        "    for point in shapefile_gdf.geometry:\n",
        "        # Convert point coordinates to raster coordinates\n",
        "        x, y = point.x, point.y\n",
        "        col = int((x - raster_geotransform[0]) / raster_geotransform[1])\n",
        "        row = int((y - raster_geotransform[3]) / raster_geotransform[5])\n",
        "\n",
        "        # Create polygon around the pixel and its 24 surrounding pixels\n",
        "        polygon = create_polygon_from_pixels(row, col, raster_geotransform)\n",
        "        polygons.append(polygon)\n",
        "\n",
        "    result_gdf = gpd.GeoDataFrame(geometry=polygons, crs=shape_crs)\n",
        "\n",
        "    return result_gdf\n",
        "\n",
        "\n",
        "def mask_raster_with_polygon(input_raster_path, shapefile_path, output_raster_path, value=1):\n",
        "    \"\"\"\n",
        "    Create a copy of a raster, set all its values to 0, overlay it with a polygon shapefile,\n",
        "    and set all pixels underneath polygons to a specified value.\n",
        "\n",
        "    Args:\n",
        "    - input_raster_path (str): Path to the input raster.\n",
        "    - shapefile_path (str): Path to the shapefile containing polygons.\n",
        "    - output_raster_path (str): Path to save the masked raster.\n",
        "    - value (int, optional): Value to set for pixels underneath polygons. Defaults to 1.\n",
        "    \"\"\"\n",
        "    # Open the input raster for reading\n",
        "    with rasterio.open(input_raster_path) as src:\n",
        "        # Read raster data\n",
        "        raster_data = src.read(1)\n",
        "        # Get metadata\n",
        "        meta = src.meta\n",
        "\n",
        "    # Set all values to 0\n",
        "    raster_data.fill(0)\n",
        "\n",
        "    # Read the shapefile containing polygons\n",
        "    polygons = gpd.read_file(shapefile_path)\n",
        "\n",
        "    # Create mask from polygons\n",
        "    mask = geometry_mask(polygons.geometry, out_shape=raster_data.shape, transform=src.transform, invert=True)\n",
        "\n",
        "    # Set pixels underneath polygons to the specified value\n",
        "    raster_data[mask] = value\n",
        "\n",
        "    # Save the masked raster\n",
        "    with rasterio.open(output_raster_path, 'w', **meta) as dst:\n",
        "        dst.write(raster_data, 1)\n"
      ],
      "metadata": {
        "id": "2a1haNHB9bZE"
      },
      "execution_count": null,
      "outputs": []
    },
    {
      "cell_type": "code",
      "source": [
        "## Crop image & mask -> count seals & make csv with seal distribution"
      ],
      "metadata": {
        "id": "mZn8XuH59c48"
      },
      "execution_count": null,
      "outputs": []
    },
    {
      "cell_type": "code",
      "source": [
        "## Split into validation, test and training data sets"
      ],
      "metadata": {
        "id": "xMNiYzk19fD5"
      },
      "execution_count": null,
      "outputs": []
    }
  ]
}