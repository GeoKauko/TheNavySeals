{
  "nbformat": 4,
  "nbformat_minor": 0,
  "metadata": {
    "colab": {
      "provenance": [],
      "authorship_tag": "ABX9TyPEXiKmAYnMMDL3rHsfSlyU",
      "include_colab_link": true
    },
    "kernelspec": {
      "name": "python3",
      "display_name": "Python 3"
    },
    "language_info": {
      "name": "python"
    }
  },
  "cells": [
    {
      "cell_type": "markdown",
      "metadata": {
        "id": "view-in-github",
        "colab_type": "text"
      },
      "source": [
        "<a href=\"https://colab.research.google.com/github/GeoKauko/TheNavySeals/blob/main/spectral_signatures.ipynb\" target=\"_parent\"><img src=\"https://colab.research.google.com/assets/colab-badge.svg\" alt=\"Open In Colab\"/></a>"
      ]
    },
    {
      "cell_type": "code",
      "execution_count": 1,
      "metadata": {
        "colab": {
          "base_uri": "https://localhost:8080/"
        },
        "id": "lzNowS-poFvm",
        "outputId": "89e12d8e-dde3-4b69-bd7a-e09d8bb97ae9"
      },
      "outputs": [
        {
          "output_type": "stream",
          "name": "stdout",
          "text": [
            "Mounted at /content/drive\n"
          ]
        }
      ],
      "source": [
        "#Connect to the google drive if you use Google Colaboratory\n",
        "from google.colab import drive\n",
        "drive.mount('/content/drive')"
      ]
    },
    {
      "cell_type": "code",
      "source": [
        "!pip install rasterio -q"
      ],
      "metadata": {
        "id": "cBo3xkt5snud"
      },
      "execution_count": 58,
      "outputs": []
    },
    {
      "cell_type": "code",
      "source": [
        "import zipfile\n",
        "from glob import glob\n",
        "import os\n",
        "import rasterio\n",
        "import numpy as np\n",
        "import matplotlib.pyplot as plt\n",
        "from matplotlib.lines import Line2D"
      ],
      "metadata": {
        "id": "s2MYT4x7sVro"
      },
      "execution_count": 54,
      "outputs": []
    },
    {
      "cell_type": "code",
      "source": [
        "zip_path = \"/content/drive/MyDrive/SealNN/data.zip\"\n",
        "data_path = \"/content/drive/MyDrive/SealNN/\"\n",
        "\n",
        "# Unzip the file\n",
        "with zipfile.ZipFile(zip_path, 'r') as zip_ref:\n",
        "    zip_ref.extractall(data_path)"
      ],
      "metadata": {
        "id": "lSdwnDUHoOH-"
      },
      "execution_count": 3,
      "outputs": []
    },
    {
      "cell_type": "code",
      "source": [
        "image_dir = '/content/drive/MyDrive/SealNN/data/pansharpened/train/images'\n",
        "mask_dir = '/content/drive/MyDrive/SealNN/data/pansharpened/train/masks'\n",
        "\n",
        "image_files = sorted(glob(os.path.join(image_dir, '*.tif')))\n",
        "mask_files = sorted(glob(os.path.join(mask_dir, '*.tif')))"
      ],
      "metadata": {
        "id": "PczhoZv-oX65"
      },
      "execution_count": 8,
      "outputs": []
    },
    {
      "cell_type": "code",
      "source": [
        "def extract_spectral_signatures(image_file, mask_file):\n",
        "    # Read the image\n",
        "    with rasterio.open(image_file) as src:\n",
        "        image = src.read()\n",
        "\n",
        "    # Read the mask\n",
        "    with rasterio.open(mask_file) as src:\n",
        "        mask = src.read(1)\n",
        "\n",
        "    # Extract seal and environment pixels\n",
        "    seal_pixels = image[:, mask == 1]\n",
        "    environment_pixels = image[:, mask == 0]\n",
        "\n",
        "    return seal_pixels, environment_pixels\n",
        "\n",
        "# Initialize lists to store signatures\n",
        "seal_signatures = []\n",
        "environment_signatures = []\n",
        "\n",
        "# Loop through the files and extract signatures\n",
        "for image_file, mask_file in zip(image_files, mask_files):\n",
        "    seal_pixels, environment_pixels = extract_spectral_signatures(image_file, mask_file)\n",
        "    seal_signatures.append(seal_pixels)\n",
        "    environment_signatures.append(environment_pixels)\n",
        "\n",
        "# Convert lists to arrays\n",
        "seal_signatures = np.concatenate(seal_signatures, axis=1)\n",
        "environment_signatures = np.concatenate(environment_signatures, axis=1)"
      ],
      "metadata": {
        "id": "63kGiXNLp38Y"
      },
      "execution_count": 9,
      "outputs": []
    },
    {
      "cell_type": "code",
      "source": [
        "bands = range(1, seal_signatures.shape[0] + 1)\n",
        "plt.figure(figsize=(10, 6))\n",
        "\n",
        "# Plot box plots for seal_signatures with blue outline\n",
        "plt.boxplot(seal_signatures.T, positions=np.array(bands) - 0.2, widths=0.4, showfliers=False, patch_artist=False,\n",
        "            boxprops=dict(color='blue'))\n",
        "\n",
        "# Plot box plots for environment_signatures with green outline\n",
        "plt.boxplot(environment_signatures.T, positions=np.array(bands) + 0.2, widths=0.4, showfliers=False, patch_artist=False,\n",
        "            boxprops=dict(color='green'))\n",
        "\n",
        "plt.xticks(bands, [f'Band {b}' for b in bands])\n",
        "plt.xlabel('Spectral Bands')\n",
        "plt.ylabel('Reflectance')\n",
        "plt.title('Spectral Signatures')\n",
        "plt.legend(['Seal', 'Environment'])\n",
        "\n",
        "# Create custom legend handles with specified colors\n",
        "legend_handles = [\n",
        "    Line2D([0], [0], color='blue', lw=4, label='Seal'),\n",
        "    Line2D([0], [0], color='green', lw=4, label='Environment')\n",
        "]\n",
        "\n",
        "plt.show()"
      ],
      "metadata": {
        "colab": {
          "base_uri": "https://localhost:8080/",
          "height": 564
        },
        "id": "exQTmqOI5BcX",
        "outputId": "9a607064-fd1d-4237-a959-d56ffee89763"
      },
      "execution_count": 57,
      "outputs": [
        {
          "output_type": "display_data",
          "data": {
            "text/plain": [
              "<Figure size 1000x600 with 1 Axes>"
            ],
            "image/png": "[encoded data removed]"
          },
          "metadata": {}
        }
      ]
    }
  ]
}