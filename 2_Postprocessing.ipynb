{
  "cells": [
    {
      "cell_type": "markdown",
      "metadata": {
        "id": "view-in-github",
        "colab_type": "text"
      },
      "source": [
        "<a href=\"https://colab.research.google.com/github/GeoKauko/TheNavySeals/blob/main/3_Postprocessing_With_UI.ipynb\" target=\"_parent\"><img src=\"https://colab.research.google.com/assets/colab-badge.svg\" alt=\"Open In Colab\"/></a>"
      ]
    },
    {
      "cell_type": "markdown",
      "id": "9ca023d318db0a2e",
      "metadata": {
        "collapsed": false,
        "id": "9ca023d318db0a2e"
      },
      "source": [
        "# 1 : Import Libraries and Set up Working Path"
      ]
    },
    {
      "cell_type": "code",
      "execution_count": null,
      "id": "e8fe01e5b1cd31bc",
      "metadata": {
        "id": "e8fe01e5b1cd31bc"
      },
      "outputs": [],
      "source": [
        "# Set up working directory and project directories\n",
        "\n",
        "# Define function to check if the code is run in Google Colab\n",
        "def in_colab():\n",
        "    try:\n",
        "        import google.colab\n",
        "        return True\n",
        "    except ImportError:\n",
        "        return False\n",
        "\n",
        "import os\n",
        "\n",
        "# Set working directory to Google Drive or Local based on usage\n",
        "if in_colab():\n",
        "    ## GOOGLE COLAB USERS ONLY\n",
        "    ## Mount Google Drive for data retrieval\n",
        "    print(\"Running in Google Colab\")\n",
        "    from google.colab import drive\n",
        "    drive.mount('/content/drive')\n",
        "\n",
        "    project_path = '/content/drive/MyDrive/TheNavySeals/'\n",
        "\n",
        "    !pip install torch rasterio torchvision tifffile segmentation-models-pytorch -q\n",
        "else:\n",
        "    ## LOCAL USERS ONLY\n",
        "    ## Change the path to your project directory\n",
        "    print(\"Running Locally\")\n",
        "    os.chdir('D:\\E_2024_P6\\SEAL')\n",
        "    project_path = ''\n",
        "\n",
        "## Import packages\n",
        "import os\n",
        "import rasterio\n",
        "import numpy as np\n",
        "import torch\n",
        "import torchvision\n",
        "import matplotlib.pyplot as plt\n",
        "from PIL import Image, ImageTk, ImageEnhance\n",
        "import tifffile\n",
        "from osgeo import gdal\n",
        "import tkinter as tk\n",
        "from tkinter import filedialog, Toplevel, Label\n",
        "from torchvision.transforms import v2 as transforms\n",
        "from scipy.ndimage import convolve\n",
        "import random\n",
        "from skimage.morphology import dilation, square\n",
        "from scipy.ndimage import binary_dilation\n",
        "\n",
        "\n",
        "## Define paths\n",
        "source_image = os.path.join(project_path, 'data/22MAR25134916-P3DS-014983717020_01_P001.TIF')\n",
        "source_model = os.path.join(project_path, 'data/2_deep_learning/2x_output_model/Model_49')\n",
        "\n",
        "reduced_image_path = os.path.join(project_path, 'data/3_postprocessing/3a_reduced_image')\n",
        "os.makedirs(reduced_image_path, exist_ok=True)\n",
        "reduced_image = os.path.join(reduced_image_path, '3a_reduced_image.tif')\n",
        "\n",
        "tiled_images_path = os.path.join(project_path, 'data/3_postprocessing/3b_tiled_images')\n",
        "os.makedirs(tiled_images_path, exist_ok=True)\n",
        "\n",
        "predicted_masks_path = os.path.join(project_path, 'data/3_postprocessing/3c_predicted_masks')\n",
        "os.makedirs(predicted_masks_path, exist_ok=True)\n",
        "\n",
        "predicted_masks_georef_path = os.path.join(project_path, 'data/3_postprocessing/3d_predicted_masks_georef')\n",
        "os.makedirs(predicted_masks_path, exist_ok=True)\n",
        "\n",
        "predicted_mask_path = os.path.join(project_path, 'data/3_postprocessing/3e_predicted_mask_final')\n",
        "os.makedirs(predicted_mask_path, exist_ok=True)\n",
        "predicted_mask = os.path.join(predicted_mask_path, '3e_predicted_mask.tif')\n",
        "\n",
        "mask_heatmap_path = os.path.join(project_path, 'data/3_postprocessing/3f_mask_heatmap')\n",
        "os.makedirs(mask_heatmap_path, exist_ok=True)\n",
        "mask_heatmap = os.path.join(mask_heatmap_path, '3f_mask_heatmap.tif')"
      ]
    },
    {
      "cell_type": "markdown",
      "id": "58f65676d687e98b",
      "metadata": {
        "collapsed": false,
        "id": "58f65676d687e98b"
      },
      "source": [
        "#  2 :Definition all the fuctions"
      ]
    },
    {
      "cell_type": "markdown",
      "id": "6d7a064c6985b78f",
      "metadata": {
        "collapsed": false,
        "id": "6d7a064c6985b78f"
      },
      "source": [
        "### Function 1 : Reduce Radiometric Resolution"
      ]
    },
    {
      "cell_type": "code",
      "execution_count": null,
      "id": "4f6581569f5c1d8c",
      "metadata": {
        "id": "4f6581569f5c1d8c"
      },
      "outputs": [],
      "source": [
        "# Reduce image for increased processing speed\n",
        "def reduce_radiometric_resolution(input_path, output_path, input_res=11):\n",
        "    '''\n",
        "    Reduce the radiometric resolution of the input raster and save the output raster.\n",
        "\n",
        "    Args:\n",
        "    - input_path (string): Path to the input raster.\n",
        "    - output_path (string): Path to the output raster.\n",
        "    - input_res (int): Radiometric resolution of the input raster in bits.\n",
        "    '''\n",
        "    # Ensure the output directory exists\n",
        "    output_dir = os.path.dirname(output_path)\n",
        "    if not os.path.exists(output_dir):\n",
        "        os.makedirs(output_dir)\n",
        "\n",
        "    with rasterio.open(input_path) as src:\n",
        "        # Read the number of bands\n",
        "        num_bands = src.count\n",
        "\n",
        "        # Initialize an array to store the scaled bands\n",
        "        scaled_arrays = []\n",
        "\n",
        "        for band in range(1, num_bands + 1):\n",
        "            # Read the image band as a numpy array\n",
        "            image_array = src.read(band, masked=True)\n",
        "\n",
        "            # Rescale the pixel values to fit within 8-bit range (0-255)\n",
        "            scaled_array = (image_array / (2**input_res - 1) * 255).astype(np.uint8)\n",
        "\n",
        "            # Append the scaled array to the list\n",
        "            scaled_arrays.append(scaled_array)\n",
        "\n",
        "        # Stack the scaled arrays along the first axis to create a 3D array\n",
        "        scaled_arrays = np.stack(scaled_arrays, axis=0)\n",
        "\n",
        "        # Create a new raster profile with 8-bit pixel depth\n",
        "        profile = src.profile\n",
        "        profile.update(dtype=rasterio.uint8, count=num_bands)\n",
        "\n",
        "        # Write the scaled arrays to a new raster file\n",
        "        with rasterio.open(output_path, 'w', **profile) as dst:\n",
        "            dst.write(scaled_arrays)"
      ]
    },
    {
      "cell_type": "markdown",
      "id": "b44c2ee10ac9cac0",
      "metadata": {
        "collapsed": false,
        "id": "b44c2ee10ac9cac0"
      },
      "source": [
        "### Function 2:  Split and Save Raster"
      ]
    },
    {
      "cell_type": "code",
      "execution_count": null,
      "id": "bfc97748214d8d0d",
      "metadata": {
        "id": "bfc97748214d8d0d"
      },
      "outputs": [],
      "source": [
        "# Tile the image into 224x224 px tiles\n",
        "def split_and_save_raster(input_raster_path, part_width, part_height, output_folder):\n",
        "    '''\n",
        "    Split a raster into multiple tiles of length part_width and height part_height, and save them in output_folder.\n",
        "\n",
        "    Args:\n",
        "    - input_raster_path: path to the input raster.\n",
        "    - part_width (int): Width of each tile.\n",
        "    - part_height (int): Height of each tile.\n",
        "    - output_folder (str): Directory to save the rasters.\n",
        "    '''\n",
        "    # Open the raster\n",
        "    dataset = gdal.Open(input_raster_path)\n",
        "\n",
        "    # Get raster dimensions\n",
        "    width = dataset.RasterXSize\n",
        "    height = dataset.RasterYSize\n",
        "\n",
        "    # Calculate the number of parts\n",
        "    num_parts_x = width // part_width\n",
        "    num_parts_y = height // part_height\n",
        "\n",
        "    # Get the number of bands\n",
        "    bands = dataset.RasterCount\n",
        "\n",
        "    # Split the raster and save\n",
        "    for i in range(num_parts_x):\n",
        "        for j in range(num_parts_y):\n",
        "            x_offset = i * part_width\n",
        "            y_offset = j * part_height\n",
        "\n",
        "            # Read the split region\n",
        "            part = dataset.ReadAsArray(x_offset, y_offset, part_width, part_height)\n",
        "\n",
        "            # Expand dimensions if there's only one band\n",
        "            if bands == 1:\n",
        "               part = np.expand_dims(part, axis=0)\n",
        "\n",
        "            # Create a new GDAL dataset to save the split part\n",
        "            driver = gdal.GetDriverByName('GTiff')\n",
        "            output_path = os.path.join(output_folder, f'part_{i}_{j}.tif')\n",
        "            out_dataset = driver.Create(output_path, part_width, part_height, bands, gdal.GDT_UInt16)\n",
        "\n",
        "            # Write data to the new dataset\n",
        "            for band in range(bands):\n",
        "                out_band = out_dataset.GetRasterBand(band + 1)\n",
        "                out_band.WriteArray(part[band])\n",
        "\n",
        "            # Set georeference and projection\n",
        "            geo_transform = list(dataset.GetGeoTransform())\n",
        "            geo_transform[0] += x_offset * geo_transform[1]\n",
        "            geo_transform[3] += y_offset * geo_transform[5]\n",
        "            out_dataset.SetGeoTransform(tuple(geo_transform))\n",
        "            out_dataset.SetProjection(dataset.GetProjection())\n",
        "\n",
        "            # Save and close\n",
        "            out_dataset.FlushCache()\n",
        "            del out_dataset\n",
        "\n",
        "    # Close the original dataset\n",
        "    del dataset"
      ]
    },
    {
      "cell_type": "markdown",
      "id": "6b63600aa7954ec9",
      "metadata": {
        "collapsed": false,
        "id": "6b63600aa7954ec9"
      },
      "source": [
        "### Function 3:  Check Is multiband or not?"
      ]
    },
    {
      "cell_type": "code",
      "execution_count": null,
      "id": "bfdf22932734a8bc",
      "metadata": {
        "id": "bfdf22932734a8bc"
      },
      "outputs": [],
      "source": [
        "def is_multiband_pil(image_path):\n",
        "    \"\"\"\n",
        "    Check if an image is multiband or singleband using Pillow.\n",
        "\n",
        "    Args:\n",
        "        image_path (str): Path to the image file.\n",
        "\n",
        "    Returns:\n",
        "        bool: True if the image is multiband (color), False if it is singleband (grayscale).\n",
        "    \"\"\"\n",
        "    try:\n",
        "        with Image.open(image_path) as img:\n",
        "            return img.mode in (\"RGB\", \"RGBA\", \"CMYK\", \"YCbCr\")\n",
        "    except Exception as e:\n",
        "        print(f\"Error opening image: {e}\")\n",
        "        return False"
      ]
    },
    {
      "cell_type": "markdown",
      "id": "bb5d032f76b36fe8",
      "metadata": {
        "collapsed": false,
        "id": "bb5d032f76b36fe8"
      },
      "source": [
        "### Function 4 : Trans and Denormalize"
      ]
    },
    {
      "cell_type": "code",
      "execution_count": null,
      "id": "652d9916f431aeb7",
      "metadata": {
        "id": "652d9916f431aeb7"
      },
      "outputs": [],
      "source": [
        "def trans(image):\n",
        "    image = torchvision.transforms.functional.to_tensor(image)\n",
        "    image = image.float() / 255.0 #get pixel values between 0 and 1 for uint8\n",
        "    print(image)\n",
        "\n",
        "    if image.shape[0] != 1:\n",
        "        image = image[:3, :, :] #Assumes that first three channels are RGB\n",
        "        image = torchvision.transforms.functional.normalize(image, mean=[0.485, 0.456, 0.406], std=[0.229, 0.224, 0.225])\n",
        "    else:\n",
        "        image = torchvision.transforms.functional.normalize(image, mean=0.445, std=0.269)\n",
        "    return image\n",
        "\n",
        "def denormalize(image_tensor):\n",
        "    # This is for denormalization for visualization purposes\n",
        "    if image_tensor.shape[0] != 1:\n",
        "        mean = torch.tensor([0.485, 0.456, 0.406]).view(3, 1, 1).to(image_tensor.device)\n",
        "        std = torch.tensor([0.229, 0.224, 0.225]).view(3, 1, 1).to(image_tensor.device)\n",
        "    else:\n",
        "        mean = torch.tensor([0.445]).view(1, 1, 1).to(image_tensor.device)\n",
        "        std = torch.tensor([0.269]).view(1, 1, 1).to(image_tensor.device)\n",
        "    image_tensor = image_tensor * std + mean\n",
        "    return image_tensor\n"
      ]
    },
    {
      "cell_type": "markdown",
      "id": "33988423d3522f34",
      "metadata": {
        "collapsed": false,
        "id": "33988423d3522f34"
      },
      "source": [
        "### Function 5 : Segmentation Dataset"
      ]
    },
    {
      "cell_type": "code",
      "execution_count": null,
      "id": "e29cb88094e92f78",
      "metadata": {
        "id": "e29cb88094e92f78"
      },
      "outputs": [],
      "source": [
        "def segmentation_dataset(data_path, transform=None):\n",
        "   image_files = os.listdir(data_path)\n",
        "   dataset = []\n",
        "\n",
        "   for img_name in image_files:\n",
        "         image = tifffile.imread(os.path.join(data_path, img_name)) #read .tif file\n",
        "\n",
        "         if transform:\n",
        "           image = trans(image.astype(float))\n",
        "\n",
        "         dataset.append((image, img_name)) #append the image-mask pair in the dataset\n",
        "\n",
        "   return dataset"
      ]
    },
    {
      "cell_type": "markdown",
      "id": "5a441c2d3aa51a82",
      "metadata": {
        "collapsed": false,
        "id": "5a441c2d3aa51a82"
      },
      "source": [
        "### Function 6 : Predict and Save Masks"
      ]
    },
    {
      "cell_type": "code",
      "execution_count": null,
      "id": "4b6e7107c1c477e4",
      "metadata": {
        "id": "4b6e7107c1c477e4"
      },
      "outputs": [],
      "source": [
        "def predict_and_save_masks(dataset, model, device, predicted_masks_path):\n",
        "    pred_masks = []\n",
        "\n",
        "    for i in range(len(dataset)):\n",
        "        image, img_name = dataset[i]\n",
        "        image = image.to(device, dtype=torch.float).unsqueeze(0)  # Add batch dimension\n",
        "\n",
        "        model.eval()\n",
        "        with torch.no_grad():\n",
        "            pred = model(image)\n",
        "\n",
        "        pred = torch.sigmoid(pred).squeeze().cpu().numpy()  # Convert prediction to numpy array\n",
        "        pred_print = (pred >= 0.5).astype(np.float32)\n",
        "\n",
        "        pred_masks.append(pred_print)\n",
        "\n",
        "        save_path = os.path.join(predicted_masks_path, img_name)\n",
        "        tifffile.imwrite(save_path, pred_print)\n",
        "\n",
        "        # Denormalize the image for future use if needed\n",
        "        ##image_np = denormalize(image.squeeze()).cpu().numpy()\n",
        "\n",
        "    return pred_masks"
      ]
    },
    {
      "cell_type": "markdown",
      "id": "ac742bfef75a62d3",
      "metadata": {
        "collapsed": false,
        "id": "ac742bfef75a62d3"
      },
      "source": [
        "### Function 7 : Set Georeference for Masks"
      ]
    },
    {
      "cell_type": "code",
      "execution_count": null,
      "id": "10089a40a739fa8c",
      "metadata": {
        "id": "10089a40a739fa8c"
      },
      "outputs": [],
      "source": [
        "def georeference_masks(predicted_masks_path, tiled_images_path, output_path):\n",
        "    \"\"\"\n",
        "    Georeferences mask images in predicted_masks_path to match corresponding images\n",
        "    in tiled_images_path and saves them in output_path.\n",
        "    Args:\n",
        "    - predicted_masks_path (str): Path to directory containing mask images in TIFF format.\n",
        "    - tiled_images_path (str): Path to directory containing georeferenced images in TIFF format.\n",
        "    - output_path (str): Path to directory where georeferenced mask images will be saved.\n",
        "    Returns:\n",
        "    - None\n",
        "    \"\"\"\n",
        "    # Ensure the output directory exists\n",
        "    os.makedirs(output_path, exist_ok=True)\n",
        "\n",
        "    # Function to georeference the mask image\n",
        "    def georeference_mask(mask_path, image_path, output_path):\n",
        "        with rasterio.open(image_path) as src:\n",
        "            # Read metadata from the georeferenced image\n",
        "            metadata = src.meta.copy()\n",
        "\n",
        "        with rasterio.open(mask_path) as mask:\n",
        "            mask_data = mask.read(1)\n",
        "\n",
        "            # Update metadata for the mask\n",
        "            metadata.update({\n",
        "                'count': 1,\n",
        "                'dtype': 'uint8',\n",
        "                'nodata': 0\n",
        "            })\n",
        "\n",
        "            output_file = os.path.join(output_path, os.path.basename(mask_path))\n",
        "\n",
        "            with rasterio.open(output_file, 'w', **metadata) as dst:\n",
        "                dst.write(mask_data, 1)\n",
        "\n",
        "    # Loop over all mask files and georeference them\n",
        "    for mask_file in os.listdir(predicted_masks_path):\n",
        "        if mask_file.endswith('.tif'):\n",
        "            mask_path = os.path.join(predicted_masks_path, mask_file)\n",
        "            image_path = os.path.join(tiled_images_path, mask_file)\n",
        "\n",
        "            if os.path.exists(image_path):\n",
        "                georeference_mask(mask_path, image_path, output_path)\n",
        "            else:\n",
        "                print(f\"Warning: Corresponding image for {mask_file} not found.\")\n",
        "\n",
        "    print(\"Georeferencing completed.\")\n"
      ]
    },
    {
      "cell_type": "markdown",
      "id": "1c54fa2c81bfd236",
      "metadata": {
        "collapsed": false,
        "id": "1c54fa2c81bfd236"
      },
      "source": [
        "### Function 8 : Mosaic Rasters"
      ]
    },
    {
      "cell_type": "code",
      "execution_count": null,
      "id": "3371f9b3edf71019",
      "metadata": {
        "id": "3371f9b3edf71019"
      },
      "outputs": [],
      "source": [
        "def mosaic_rasters(input_folder, output_path):\n",
        "    # List to hold the file paths of the rasters to be merged\n",
        "    input_files = []\n",
        "\n",
        "    # Loop through the folder and add all .tif files to the list\n",
        "    for file_name in os.listdir(input_folder):\n",
        "        print(file_name)\n",
        "        if file_name.endswith('.tif'):\n",
        "            input_files.append(os.path.join(input_folder, file_name))\n",
        "\n",
        "    # Check if we have any input files\n",
        "    if not input_files:\n",
        "        raise FileNotFoundError(\"No .tif files found in the specified folder.\")\n",
        "\n",
        "    # Open the input files\n",
        "    src_files_to_mosaic = []\n",
        "    for file in input_files:\n",
        "        src = gdal.Open(file)\n",
        "        if src:\n",
        "            src_files_to_mosaic.append(src)\n",
        "        else:\n",
        "            print(f\"Failed to open {file}\")\n",
        "\n",
        "    # Create a virtual raster from the input files\n",
        "    vrt = gdal.BuildVRT('temporary.vrt', src_files_to_mosaic)\n",
        "    if vrt is None:\n",
        "        raise ValueError(\"Failed to create virtual raster (VRT).\")\n",
        "\n",
        "    # Write the virtual raster to a new file\n",
        "    gdal.Translate(output_path, vrt)\n",
        "\n",
        "    # Cleanup\n",
        "    vrt = None\n",
        "    for src in src_files_to_mosaic:\n",
        "        src = None\n",
        "\n",
        "    print(f\"Mosaic raster saved as {output_path}\")"
      ]
    },
    {
      "cell_type": "markdown",
      "id": "b4a8b64da9177f2c",
      "metadata": {
        "collapsed": false,
        "id": "b4a8b64da9177f2c"
      },
      "source": [
        "### Function 9 : Create the Heatmap"
      ]
    },
    {
      "cell_type": "code",
      "outputs": [],
      "source": [
        "def mask_to_heatmap(input_raster_path, output_heatmap_path, window_size=5):\n",
        "    \"\"\"\n",
        "    Converts a mask raster to a heatmap raster and saves it to a specified file.\n",
        "    Parameters:\n",
        "    - input_raster_path: str, path to the input mask raster file\n",
        "    - output_heatmap_path: str, path to the output heatmap raster file\n",
        "    - window_size: int, size of the window to calculate density (default is 5)\n",
        "    \"\"\"\n",
        "    # Step 1: Load the mask raster\n",
        "    with rasterio.open(input_raster_path) as src:\n",
        "        mask_data = src.read(1)  # Assuming the mask is in the first band\n",
        "        transform = src.transform\n",
        "        crs = src.crs\n",
        "        width = src.width\n",
        "        height = src.height\n",
        "\n",
        "    # Step 2: Identify the cells with value 1 and create a buffer around them\n",
        "    ones_mask = mask_data == 1\n",
        "    buffer_mask = binary_dilation(ones_mask, iterations=window_size * 2)  # Increasing the buffer size\n",
        "\n",
        "    # Step 3: Calculate the density only within the buffer\n",
        "    density_data = np.zeros_like(mask_data, dtype=np.float32)\n",
        "\n",
        "    for i in range(window_size, mask_data.shape[0] - window_size):\n",
        "        for j in range(window_size, mask_data.shape[1] - window_size):\n",
        "            if buffer_mask[i, j]:\n",
        "                density_data[i, j] = np.sum(mask_data[i-window_size:i+window_size+1, j-window_size:j+window_size+1])\n",
        "\n",
        "    # Normalize density data for better visualization\n",
        "    if np.max(density_data) > 0:\n",
        "        density_data = density_data / np.max(density_data)\n",
        "\n",
        "    # Step 4: Save the heatmap to a new file\n",
        "    out_meta = {\n",
        "        'driver': 'GTiff',\n",
        "        'height': height,\n",
        "        'width': width,\n",
        "        'count': 1,\n",
        "        'dtype': 'float32',\n",
        "        'crs': crs,\n",
        "        'transform': transform\n",
        "    }\n",
        "\n",
        "    with rasterio.open(output_heatmap_path, 'w', **out_meta) as dst:\n",
        "        dst.write(density_data, 1)\n",
        "\n",
        "    print(f\"Heatmap saved to {output_heatmap_path}\")\n",
        "\n"
      ],
      "metadata": {
        "id": "deb5eefb6b8bf89"
      },
      "id": "deb5eefb6b8bf89",
      "execution_count": null
    },
    {
      "cell_type": "markdown",
      "id": "aa4334268739cacb",
      "metadata": {
        "collapsed": false,
        "id": "aa4334268739cacb"
      },
      "source": [
        "### Function 10 : Process and Predict"
      ]
    },
    {
      "cell_type": "code",
      "execution_count": null,
      "id": "455a9db4cd6942f3",
      "metadata": {
        "id": "455a9db4cd6942f3"
      },
      "outputs": [],
      "source": [
        "def process_and_predict(source_image, reduced_image, source_model, tiled_images_path, predicted_masks_path, predicted_masks_georef_path, predicted_mask, mask_heatmap, seed=0):\n",
        "    # Step 1: Reduce radiometric resolution\n",
        "    reduce_radiometric_resolution(source_image, reduced_image)\n",
        "    print(\"Step 1 Reduce radiometric resolution done\")\n",
        "\n",
        "    # Step 2: Split and save raster\n",
        "    split_and_save_raster(reduced_image, 224, 224, tiled_images_path)\n",
        "    print(\"Step 2 Split and save raster done\")\n",
        "\n",
        "    # Step 3: Set random seed for reproducibility\n",
        "    torch.manual_seed(seed)\n",
        "    print(\"Step 3 Set random seed for reproducibility done\")\n",
        "\n",
        "    # Step 4: Prepare dataset\n",
        "    dataset = segmentation_dataset(tiled_images_path, transform=trans)\n",
        "    print(\"Step 4 Prepare dataset done\")\n",
        "\n",
        "    # Step 5: Import and load the model\n",
        "    model = torch.load(source_model)\n",
        "    print(\"Step 5 Import and load the model done\")\n",
        "\n",
        "    # Step 6: Transfer model to the appropriate device\n",
        "    device = torch.device(\"cuda\" if torch.cuda.is_available() else \"cpu\")\n",
        "    model.to(device)\n",
        "    print(\"Step 6 Transfer model to the appropriate device done\")\n",
        "\n",
        "    # Step 7: Predict and save masks\n",
        "    predict_and_save_masks(dataset, model, device, predicted_masks_path)\n",
        "    print(\"Step 7 Predict and save masks done\")\n",
        "\n",
        "    # Step 8: Georeference masks\n",
        "    georeference_masks(predicted_masks_path, tiled_images_path, predicted_masks_georef_path)\n",
        "    print(\"Step 8 Georeference masks done\")\n",
        "\n",
        "    # Step 9: Mosaic the masks back together\n",
        "    mosaic_rasters(predicted_masks_georef_path, predicted_mask)\n",
        "    print(\"Step 9 Mosaic the masks back together done\")\n",
        "\n",
        "    # Step 10: Convert the mask to a heatmap\n",
        "    mask_to_heatmap(predicted_mask, mask_heatmap, 15)\n",
        "    print(\"Step 10 Convert the mask to a heatmap done\")"
      ]
    },
    {
      "cell_type": "markdown",
      "id": "a730ea0e1b8a2cd2",
      "metadata": {
        "collapsed": false,
        "id": "a730ea0e1b8a2cd2"
      },
      "source": [
        "# 3 : Call all functions"
      ]
    },
    {
      "cell_type": "code",
      "execution_count": null,
      "id": "b57ef756e3dcf4f9",
      "metadata": {
        "id": "b57ef756e3dcf4f9"
      },
      "outputs": [],
      "source": [
        "process_and_predict(\n",
        "    source_image,\n",
        "    reduced_image,\n",
        "    source_model,\n",
        "    tiled_images_path,\n",
        "    predicted_masks_path,\n",
        "    predicted_masks_georef_path,\n",
        "    predicted_mask,\n",
        "    mask_heatmap\n",
        ")"
      ]
    },
    {
      "cell_type": "markdown",
      "id": "3d6f94f9f9e40f46",
      "metadata": {
        "collapsed": false,
        "id": "3d6f94f9f9e40f46"
      },
      "source": [
        "# 4 : UserInterface"
      ]
    },
    {
      "cell_type": "code",
      "source": [
        "class App(tk.Tk):\n",
        "    def __init__(self):\n",
        "        super().__init__()\n",
        "        self.title(\"NavySeal\")\n",
        "        self.geometry(\"800x600\")\n",
        "\n",
        "        # Create a canvas\n",
        "        self.canvas = tk.Canvas(self, width=800, height=600)\n",
        "        self.canvas.pack(fill=\"both\", expand=True)\n",
        "\n",
        "        # Load the background image\n",
        "        self.bg_image = Image.open(\"seals.jpg\")\n",
        "        self.bg_image = self.bg_image.resize((800, 600), Image.LANCZOS)\n",
        "\n",
        "        # Adjust the transparency of the image\n",
        "        self.bg_image = self.bg_image.convert(\"RGBA\")\n",
        "        alpha = self.bg_image.split()[3]\n",
        "        alpha = ImageEnhance.Brightness(alpha).enhance(0.5)  # Adjust transparency to 50%\n",
        "        self.bg_image.putalpha(alpha)\n",
        "\n",
        "        # Convert the image with transparency to PhotoImage\n",
        "        self.bg_photo = ImageTk.PhotoImage(self.bg_image)\n",
        "\n",
        "        # Add the background image to the canvas\n",
        "        self.canvas.create_image(0, 0, image=self.bg_photo, anchor=\"nw\")\n",
        "\n",
        "        # Keep a reference to the image to prevent it from being garbage collected\n",
        "        self.canvas.image = self.bg_photo\n",
        "\n",
        "        # Add other widgets on top of the canvas\n",
        "        self.panel = tk.Label(self)\n",
        "        self.canvas.create_window(400, 300, window=self.panel)\n",
        "\n",
        "        self.btn_select = tk.Button(self, text=\"Select Image\", command=self.select_image)\n",
        "        self.canvas.create_window(400, 450, window=self.btn_select)\n",
        "\n",
        "        self.btn_process = tk.Button(self, text=\"Process Data\", command=self.process_data)\n",
        "        self.canvas.create_window(400, 500, window=self.btn_process)\n",
        "\n",
        "        self.result_label = tk.Label(self, text=\"File path: \")\n",
        "        self.canvas.create_window(400, 550, window=self.result_label)\n",
        "\n",
        "    def read_and_display_tif(self, file_path):\n",
        "        global selected_image\n",
        "        try:\n",
        "            selected_image = Image.open(file_path)\n",
        "            selected_image = selected_image.resize((500, 500))  # Resize to fit the Tkinter window\n",
        "            img_tk = ImageTk.PhotoImage(selected_image)\n",
        "            self.panel.config(image=img_tk)\n",
        "            self.panel.image = img_tk\n",
        "\n",
        "            self.result_label.config(text=f\"File path: {file_path}\")\n",
        "        except Exception as e:\n",
        "            print(f\"Error reading TIF file: {e}\")\n",
        "\n",
        "    def select_image(self):\n",
        "        file_path = filedialog.askopenfilename(filetypes=[(\"TIF Files\", \"*.tif\")])\n",
        "        if file_path:\n",
        "            self.read_and_display_tif(file_path)\n",
        "\n",
        "    def process_data(self):\n",
        "        # Display message indicating the image is saved\n",
        "        info_popup = Toplevel(self)\n",
        "        info_popup.title(\"Image Saved\")\n",
        "        info_label = Label(info_popup, text=\"Your image is saved in the folder.\")\n",
        "        info_label.pack(padx=20, pady=20)\n",
        "\n",
        "if __name__ == \"__main__\":\n",
        "    app = App()\n",
        "    app.mainloop()"
      ],
      "metadata": {
        "id": "D4TJTtg8jCJb"
      },
      "id": "D4TJTtg8jCJb",
      "execution_count": null,
      "outputs": []
    }
  ],
  "metadata": {
    "kernelspec": {
      "display_name": "Python 3 (ipykernel)",
      "language": "python",
      "name": "python3"
    },
    "language_info": {
      "codemirror_mode": {
        "name": "ipython",
        "version": 3
      },
      "file_extension": ".py",
      "mimetype": "text/x-python",
      "name": "python",
      "nbconvert_exporter": "python",
      "pygments_lexer": "ipython3",
      "version": "3.9.19"
    },
    "colab": {
      "provenance": [],
      "include_colab_link": true
    }
  },
  "nbformat": 4,
  "nbformat_minor": 5
}
