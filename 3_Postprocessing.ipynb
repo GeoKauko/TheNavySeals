{
  "nbformat": 4,
  "nbformat_minor": 0,
  "metadata": {
    "colab": {
      "provenance": [],
      "include_colab_link": true
    },
    "kernelspec": {
      "name": "python3",
      "display_name": "Python 3"
    },
    "language_info": {
      "name": "python"
    }
  },
  "cells": [
    {
      "cell_type": "markdown",
      "metadata": {
        "id": "view-in-github",
        "colab_type": "text"
      },
      "source": [
        "<a href=\"https://colab.research.google.com/github/GeoKauko/TheNavySeals/blob/main/3_Postprocessing.ipynb\" target=\"_parent\"><img src=\"https://colab.research.google.com/assets/colab-badge.svg\" alt=\"Open In Colab\"/></a>"
      ]
    },
    {
      "cell_type": "markdown",
      "source": [
        "# Postprocessing\n",
        "\n"
      ],
      "metadata": {
        "id": "vmdg_im7xnCN"
      }
    },
    {
      "cell_type": "code",
      "execution_count": 1,
      "metadata": {
        "id": "Q-1WQHPFxHse",
        "outputId": "fef3921c-b1f3-4c6f-fe08-9fbd9d91da73",
        "colab": {
          "base_uri": "https://localhost:8080/"
        }
      },
      "outputs": [
        {
          "output_type": "stream",
          "name": "stdout",
          "text": [
            "Mounted at /content/drive\n"
          ]
        }
      ],
      "source": [
        "#Connect to the google drive if you use Google Colaboratory\n",
        "from google.colab import drive\n",
        "drive.mount('/content/drive')"
      ]
    },
    {
      "cell_type": "markdown",
      "source": [
        "#### Install libraries"
      ],
      "metadata": {
        "id": "gXJSBYr6jLcb"
      }
    },
    {
      "cell_type": "code",
      "source": [
        "! pip install torchvision rasterio numpy -q"
      ],
      "metadata": {
        "id": "IolpgYowjUCS",
        "outputId": "82d46b91-8f10-4194-e954-d17ba0f08400",
        "colab": {
          "base_uri": "https://localhost:8080/"
        }
      },
      "execution_count": 4,
      "outputs": [
        {
          "output_type": "stream",
          "name": "stdout",
          "text": [
            "\u001b[2K     \u001b[90m━━━━━━━━━━━━━━━━━━━━━━━━━━━━━━━━━━━━━━━━\u001b[0m \u001b[32m21.5/21.5 MB\u001b[0m \u001b[31m55.7 MB/s\u001b[0m eta \u001b[36m0:00:00\u001b[0m\n",
            "\u001b[2K     \u001b[90m━━━━━━━━━━━━━━━━━━━━━━━━━━━━━━━━━━━━━━━━\u001b[0m \u001b[32m21.3/21.3 MB\u001b[0m \u001b[31m45.2 MB/s\u001b[0m eta \u001b[36m0:00:00\u001b[0m\n",
            "\u001b[?25h"
          ]
        }
      ]
    },
    {
      "cell_type": "markdown",
      "source": [
        "#### Import libraries"
      ],
      "metadata": {
        "id": "49xrNFoxjgWd"
      }
    },
    {
      "cell_type": "code",
      "source": [
        "import os\n",
        "import torch\n",
        "from torchvision import transforms\n",
        "import numpy as np\n",
        "from PIL import Image\n",
        "import rasterio"
      ],
      "metadata": {
        "id": "9vMLudeCjjFm"
      },
      "execution_count": 5,
      "outputs": []
    },
    {
      "cell_type": "markdown",
      "source": [
        "## Load the whole satellite image"
      ],
      "metadata": {
        "id": "FqcpeYzjjnMi"
      }
    },
    {
      "cell_type": "code",
      "source": [
        "# Define File directories, this is just one image. We can make a for loop to run all images\n",
        "data_folder = \"/content/drive/MyDrive/SealNN/Data/Maxar\"\n",
        "img_name = '22MAR25134903-P3DS-014983717010_01_P001'\n",
        "image_dir = os.path.join(data_folder, img_name + '.TIF')\n",
        "print(image_dir)"
      ],
      "metadata": {
        "id": "fmGmzFlkjyZb",
        "outputId": "96cd8cd7-4ce2-4fe4-d71d-a88f88cb8f52",
        "colab": {
          "base_uri": "https://localhost:8080/"
        }
      },
      "execution_count": 8,
      "outputs": [
        {
          "output_type": "stream",
          "name": "stdout",
          "text": [
            "/content/drive/MyDrive/SealNN/Data/Maxar/22MAR25134903-P3DS-014983717010_01_P001.TIF\n"
          ]
        }
      ]
    },
    {
      "cell_type": "code",
      "source": [
        "# Open the image\n",
        "src = rasterio.open(image_dir)\n",
        "print(src.meta['transform'])"
      ],
      "metadata": {
        "id": "ePIKK9CDp8RY",
        "outputId": "43378be3-5664-4e2f-c6e3-b05ee5755ee3",
        "colab": {
          "base_uri": "https://localhost:8080/"
        }
      },
      "execution_count": 9,
      "outputs": [
        {
          "output_type": "stream",
          "name": "stdout",
          "text": [
            "| 0.30, 0.00, 397027.20|\n",
            "| 0.00,-0.30, 7973998.80|\n",
            "| 0.00, 0.00, 1.00|\n"
          ]
        }
      ]
    },
    {
      "cell_type": "code",
      "source": [
        "# Read image data\n",
        "image_data = src.read()\n",
        "# Convert to torch tensor\n",
        "image_tensor = torch.tensor(image_data, dtype=torch.float32)\n",
        "# Permute dimensions to have channels last\n",
        "image_tensor"
      ],
      "metadata": {
        "id": "JCd1GbWXp-_j",
        "outputId": "30ab3e9e-3ea1-4d82-a31b-d255c5abca15",
        "colab": {
          "base_uri": "https://localhost:8080/"
        }
      },
      "execution_count": 10,
      "outputs": [
        {
          "output_type": "execute_result",
          "data": {
            "text/plain": [
              "tensor([[[0., 0., 0.,  ..., 0., 0., 0.],\n",
              "         [0., 0., 0.,  ..., 0., 0., 0.],\n",
              "         [0., 0., 0.,  ..., 0., 0., 0.],\n",
              "         ...,\n",
              "         [0., 0., 0.,  ..., 0., 0., 0.],\n",
              "         [0., 0., 0.,  ..., 0., 0., 0.],\n",
              "         [0., 0., 0.,  ..., 0., 0., 0.]]])"
            ]
          },
          "metadata": {},
          "execution_count": 10
        }
      ]
    },
    {
      "cell_type": "code",
      "source": [
        "image_tensor = image_tensor.permute(1, 2, 0)  # (bands, height, width) to (height, width, bands)\n",
        "print(image_tensor.shape)"
      ],
      "metadata": {
        "id": "OBoCFG_eqele",
        "outputId": "e363af0a-1060-41b4-c716-6efd505974a6",
        "colab": {
          "base_uri": "https://localhost:8080/"
        }
      },
      "execution_count": 11,
      "outputs": [
        {
          "output_type": "stream",
          "name": "stdout",
          "text": [
            "torch.Size([34924, 35020, 1])\n"
          ]
        }
      ]
    },
    {
      "cell_type": "code",
      "source": [
        "# Function to create patches\n",
        "def create_patches(image_tensor, patch_size):\n",
        "    patches = []\n",
        "    _, height, width = image_tensor.shape\n",
        "    for i in range(0, height, patch_size):\n",
        "        for j in range(0, width, patch_size):\n",
        "            patch = image_tensor[i:i + patch_size, j:j + patch_size, :]\n",
        "            if patch.shape[0] == patch_size and patch.shape[1] == patch_size:\n",
        "                patches.append(patch)\n",
        "    return torch.stack(patches)"
      ],
      "metadata": {
        "id": "aY1-_W1cqfgr"
      },
      "execution_count": 12,
      "outputs": []
    },
    {
      "cell_type": "code",
      "source": [
        "patchsize = 336\n",
        "patches_tensor = create_patches(image_tensor, patchsize)\n",
        "print(f\"There are {patches_tensor.shape[0]} number of training patches\")"
      ],
      "metadata": {
        "id": "qXIc89hvqjff",
        "outputId": "8dbb7da8-b3a0-4808-fa47-979a91b84cfb",
        "colab": {
          "base_uri": "https://localhost:8080/"
        }
      },
      "execution_count": 13,
      "outputs": [
        {
          "output_type": "stream",
          "name": "stdout",
          "text": [
            "There are 103 number of training patches\n"
          ]
        }
      ]
    },
    {
      "cell_type": "code",
      "source": [
        "# Save patches\n",
        "output_path = os.path.join(data_folder, 'list_' + img_name + '.pt')\n",
        "torch.save(patches_tensor, output_path)\n",
        "\n",
        "print(f\"Patches saved at {output_path}\")"
      ],
      "metadata": {
        "id": "cikgCwR-qn0E",
        "outputId": "eec36486-3568-410f-8f77-84e4563c8a2a",
        "colab": {
          "base_uri": "https://localhost:8080/"
        }
      },
      "execution_count": 14,
      "outputs": [
        {
          "output_type": "stream",
          "name": "stdout",
          "text": [
            "Patches saved at /content/drive/MyDrive/SealNN/Data/Maxar/list_22MAR25134903-P3DS-014983717010_01_P001.pt\n"
          ]
        }
      ]
    },
    {
      "cell_type": "markdown",
      "source": [
        "## Classify the whole image and detect the seals"
      ],
      "metadata": {
        "id": "znDnkV79kO1m"
      }
    }
  ]
}