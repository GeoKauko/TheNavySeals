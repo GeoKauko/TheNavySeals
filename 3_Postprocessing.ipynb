{
 "nbformat": 4,
 "nbformat_minor": 0,
 "metadata": {
  "colab": {
   "provenance": [],
   "authorship_tag": "ABX9TyM4OEWAJ5PBNykL5fSnZqqu",
   "include_colab_link": true
  },
  "kernelspec": {
   "name": "python3",
   "display_name": "Python 3 (ipykernel)",
   "language": "python"
  },
  "language_info": {
   "name": "python"
  }
 },
 "cells": [
  {
   "cell_type": "markdown",
   "metadata": {
    "id": "view-in-github",
    "colab_type": "text"
   },
   "source": [
    "<a href=\"https://colab.research.google.com/github/GeoKauko/TheNavySeals/blob/main/3_Postprocessing.ipynb\" target=\"_parent\"><img src=\"https://colab.research.google.com/assets/colab-badge.svg\" alt=\"Open In Colab\"/></a>"
   ]
  },
  {
   "cell_type": "markdown",
   "source": "### Postprocessing",
   "metadata": {
    "id": "vmdg_im7xnCN"
   }
  },
  {
   "cell_type": "code",
   "execution_count": null,
   "metadata": {
    "id": "Q-1WQHPFxHse"
   },
   "outputs": [],
   "source": [
    "## Import packages\n",
    "import os\n",
    "import rasterio\n",
    "import numpy as np\n",
    "import matplotlib.pyplot as plt\n",
    "from PIL import Image"
   ]
  },
  {
   "metadata": {
    "ExecuteTime": {
     "end_time": "2024-06-19T07:25:13.258021Z",
     "start_time": "2024-06-19T07:25:12.726897Z"
    }
   },
   "cell_type": "code",
   "source": [
    "## GOOGLE COLAB USERS ONLY \n",
    "## Mount Google Drive for data retrieval\n",
    "\n",
    "from google.colab import drive\n",
    "drive.mount('/content/drive')\n",
    "\n",
    "import os\n",
    "\n",
    "project_path = '/content/drive/My Drive/TheNavySeals/'"
   ],
   "outputs": [],
   "execution_count": null
  },
  {
   "metadata": {},
   "cell_type": "code",
   "outputs": [],
   "execution_count": null,
   "source": [
    "## LOCAL USERS ONLY\n",
    "## Change the path to your project directory\n",
    "\n",
    "os.chdir('D:\\E_2024_P6\\SEAL')\n",
    "\n",
    "project_path = ''"
   ]
  },
  {
   "metadata": {},
   "cell_type": "code",
   "outputs": [],
   "execution_count": null,
   "source": [
    "## Load functions from preprocessing\n",
    "%run \"1_Preprocessing.ipynb\""
   ]
  },
  {
   "metadata": {},
   "cell_type": "code",
   "outputs": [],
   "execution_count": null,
   "source": [
    "## Define paths\n",
    "source_image\n",
    "reduced_image_path = 'data/3_postprocessing/3a_reduced_image'\n",
    "os.makedirs(reduced_image_path, exist_ok=True)\n",
    "reduced_image = os.path.join(reduced_image_path, '1a_reduced_image.tif')\n",
    "\n",
    "tiled_images_path = 'data/3_postprocessing/3b_tiled_images'\n",
    "os.makedirs(tiled_images_path, exist_ok=True)\n",
    "\n",
    "predicted_masks_path = 'data/3_postprocessing/3c_predicted_masks'\n",
    "os.makedirs(predicted_masks_path, exist_ok=True)\n",
    "\n",
    "predicted_mask_final = 'data/3_postprocessing/3d_predicted_mask_final'\n",
    "os.makedirs(predicted_mask_final, exist_ok=True)\n",
    "predicted_mask = os.path.join(predicted_masks_path, '3d_predicted_mask.tif')\n",
    "\n",
    "mask_heatmap_path = 'data/3_postprocessing/3e_mask_heatmap'\n",
    "os.makedirs(predicted_mask_final, exist_ok=True)\n",
    "mask_heatmap = os.path.join(predicted_masks_path, '3e_mask_heatmap.tif')"
   ]
  },
  {
   "metadata": {},
   "cell_type": "code",
   "outputs": [],
   "execution_count": null,
   "source": [
    "## Process the image\n",
    "# Reduce image for increased processing speed\n",
    "reduce_radiometric_resolution(source_image, reduced_image)\n",
    "# Tile the image into 224x224 px tiles\n",
    "split_and_save_raster(reduced_image, 224, 224, tiled_images_path)"
   ]
  },
  {
   "metadata": {},
   "cell_type": "code",
   "outputs": [],
   "execution_count": null,
   "source": [
    "def is_multiband_pil(image_path):\n",
    "    \"\"\"\n",
    "    Check if an image is multiband or singleband using Pillow.\n",
    "    \n",
    "    Args:\n",
    "        image_path (str): Path to the image file.\n",
    "    \n",
    "    Returns:\n",
    "        bool: True if the image is multiband (color), False if it is singleband (grayscale).\n",
    "    \"\"\"\n",
    "    try:\n",
    "        with Image.open(image_path) as img:\n",
    "            return img.mode in (\"RGB\", \"RGBA\", \"CMYK\", \"YCbCr\")\n",
    "    except Exception as e:\n",
    "        print(f\"Error opening image: {e}\")\n",
    "        return False"
   ]
  },
  {
   "metadata": {},
   "cell_type": "code",
   "outputs": [],
   "execution_count": null,
   "source": ""
  },
  {
   "metadata": {},
   "cell_type": "code",
   "outputs": [],
   "execution_count": null,
   "source": [
    "## Process predicted masks into a heatmap\n",
    "# Mosaic the masks back together\n",
    "mosaic_rasters(predicted_masks_path, predicted_mask_final)\n",
    "\n",
    "# Create a heatmap\n",
    "def create_heatmap(input_path, output_path):\n",
    "    \"\"\"\n",
    "    Save a heatmap from the given data to a file.\n",
    "    \n",
    "    Args:\n",
    "        input_path (str): Path to the mask raster.\n",
    "        output_path (str): Path to save the heatmap image.\n",
    "    \"\"\"\n",
    "    with rasterio.open(input_path) as src:\n",
    "        input_data = src.read(1)\n",
    "    plt.figure(figsize=(10, 8))\n",
    "    plt.imshow(input_data, cmap='hot', interpolation='nearest')\n",
    "    plt.colorbar(label='Value')\n",
    "    plt.title('Heatmap of mask.tif')\n",
    "    plt.xlabel('X-axis')\n",
    "    plt.ylabel('Y-axis')\n",
    "    \n",
    "    plt.savefig(output_path, bbox_inches='tight')\n",
    "    plt.close()\n",
    "\n",
    "create_heatmap(predicted_mask_final, mask_heatmap)"
   ]
  }
 ]
}
