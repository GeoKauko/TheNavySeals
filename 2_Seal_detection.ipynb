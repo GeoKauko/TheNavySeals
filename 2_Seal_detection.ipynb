{
  "nbformat": 4,
  "nbformat_minor": 0,
  "metadata": {
    "colab": {
      "provenance": [],
      "include_colab_link": true
    },
    "kernelspec": {
      "name": "python3",
      "display_name": "Python 3"
    },
    "language_info": {
      "name": "python"
    }
  },
  "cells": [
    {
      "cell_type": "markdown",
      "metadata": {
        "id": "view-in-github",
        "colab_type": "text"
      },
      "source": [
        "<a href=\"https://colab.research.google.com/github/GeoKauko/TheNavySeals/blob/main/2_Seal_detection.ipynb\" target=\"_parent\"><img src=\"https://colab.research.google.com/assets/colab-badge.svg\" alt=\"Open In Colab\"/></a>"
      ]
    },
    {
      "cell_type": "markdown",
      "source": [
        "# U-Net seal detection"
      ],
      "metadata": {
        "id": "a0_yjeoRwy7w"
      }
    },
    {
      "cell_type": "code",
      "execution_count": 3,
      "metadata": {
        "id": "9nKC5G-jvkzL",
        "colab": {
          "base_uri": "https://localhost:8080/"
        },
        "outputId": "46d65f2a-946b-449d-fc9e-7ee0379da150"
      },
      "outputs": [
        {
          "output_type": "stream",
          "name": "stdout",
          "text": [
            "Drive already mounted at /content/drive; to attempt to forcibly remount, call drive.mount(\"/content/drive\", force_remount=True).\n"
          ]
        }
      ],
      "source": [
        "#If you are using Google Colaboratory to run this code, please upload the whole folder to your Google Drive, and run this cell install the requirements\n",
        "\n",
        "#connect to the google drive if you use Google Colaboratory\n",
        "from google.colab import drive\n",
        "drive.mount('/content/drive')"
      ]
    },
    {
      "cell_type": "markdown",
      "source": [
        "## Import libraries"
      ],
      "metadata": {
        "id": "_vkSqFcmPPb0"
      }
    },
    {
      "cell_type": "code",
      "source": [
        "!pip install torch torchvision -q"
      ],
      "metadata": {
        "id": "0Qh28ZqrGTaQ",
        "outputId": "8e9f6cf6-62aa-4dd9-f54d-02e224ce1a51",
        "colab": {
          "base_uri": "https://localhost:8080/"
        }
      },
      "execution_count": 10,
      "outputs": [
        {
          "output_type": "stream",
          "name": "stdout",
          "text": [
            "\u001b[2K     \u001b[90m━━━━━━━━━━━━━━━━━━━━━━━━━━━━━━━━━━━━━━━━\u001b[0m \u001b[32m21.3/21.3 MB\u001b[0m \u001b[31m36.9 MB/s\u001b[0m eta \u001b[36m0:00:00\u001b[0m\n",
            "\u001b[?25h"
          ]
        }
      ]
    },
    {
      "cell_type": "code",
      "source": [
        "import torch\n",
        "import torch.nn as nn\n",
        "import torch.optim as optim\n",
        "import torchvision.transforms as transforms\n",
        "import os"
      ],
      "metadata": {
        "id": "BEF6q8hOGz-o"
      },
      "execution_count": 14,
      "outputs": []
    },
    {
      "cell_type": "markdown",
      "source": [
        "### Define path to tensor files and load train and test data\n"
      ],
      "metadata": {
        "id": "Gi3NAuRRPTrK"
      }
    },
    {
      "cell_type": "code",
      "source": [
        "#Define File directories\n",
        "# Data_folder =  \"/SampleData/\"\n",
        "#If you are using Google Colaboratory, modify the path here\n",
        "Data_folder = \"/content/drive/MyDrive/SealNN/Data\"\n",
        "Folder = \"/content/drive/MyDrive/SealNN\""
      ],
      "metadata": {
        "id": "C2s7hu-1PdNF"
      },
      "execution_count": 12,
      "outputs": []
    },
    {
      "cell_type": "code",
      "source": [
        "#Training dataset\n",
        "image_path = os.path.join(Data_folder, \"\")\n",
        "# label_path = os.path.join(Data_folder, #add filepath here)\n",
        "\n",
        "#Test dataset\n",
        "test_image_path = os.path.join(Data_folder, #add filepath here)\n",
        "# test_label_path = os.path.join(Data_folder, #add filepath here)"
      ],
      "metadata": {
        "id": "7QKgDQp4D4Iz",
        "outputId": "35fb3446-d4d6-4bf8-81e6-80f7d2e80cf5",
        "colab": {
          "base_uri": "https://localhost:8080/",
          "height": 106
        }
      },
      "execution_count": 15,
      "outputs": [
        {
          "output_type": "error",
          "ename": "SyntaxError",
          "evalue": "incomplete input (<ipython-input-15-6f2d93ae608d>, line 7)",
          "traceback": [
            "\u001b[0;36m  File \u001b[0;32m\"<ipython-input-15-6f2d93ae608d>\"\u001b[0;36m, line \u001b[0;32m7\u001b[0m\n\u001b[0;31m    test_label_path = os.path.join(Data_folder, #add filepath here)\u001b[0m\n\u001b[0m                                                                   ^\u001b[0m\n\u001b[0;31mSyntaxError\u001b[0m\u001b[0;31m:\u001b[0m incomplete input\n"
          ]
        }
      ]
    },
    {
      "cell_type": "code",
      "source": [
        "X_train =\n",
        "Y_train =\n",
        "\n",
        "X_test =\n",
        "Y_test =\n"
      ],
      "metadata": {
        "id": "HwEBjqchPvrC"
      },
      "execution_count": null,
      "outputs": []
    },
    {
      "cell_type": "markdown",
      "source": [
        "###Model generation (U-Net) and training"
      ],
      "metadata": {
        "id": "v2D06z9bQ53e"
      }
    },
    {
      "cell_type": "markdown",
      "source": [
        "#### Check GPU"
      ],
      "metadata": {
        "id": "UgLpO-iqdNue"
      }
    },
    {
      "cell_type": "code",
      "source": [
        "#check the GPU colab assigns to you\n",
        "gpu_info = !nvidia-smi\n",
        "gpu_info = '\\n'.join(gpu_info)\n",
        "if gpu_info.find('failed') >= 0:\n",
        "  print('Select the Runtime > \"Change runtime type\" menu to enable a GPU accelerator, ')\n",
        "  print('and then re-execute this cell.')\n",
        "else:\n",
        "  print(gpu_info)"
      ],
      "metadata": {
        "id": "aFw52534Pkbm"
      },
      "execution_count": null,
      "outputs": []
    }
  ]
}