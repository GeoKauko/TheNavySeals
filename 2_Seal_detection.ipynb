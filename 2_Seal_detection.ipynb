{
  "nbformat": 4,
  "nbformat_minor": 0,
  "metadata": {
    "colab": {
      "provenance": [],
      "authorship_tag": "ABX9TyP7Z5si/nUS9SP02ftYdrxQ",
      "include_colab_link": true
    },
    "kernelspec": {
      "name": "python3",
      "display_name": "Python 3"
    },
    "language_info": {
      "name": "python"
    }
  },
  "cells": [
    {
      "cell_type": "markdown",
      "metadata": {
        "id": "view-in-github",
        "colab_type": "text"
      },
      "source": [
        "<a href=\"https://colab.research.google.com/github/GeoKauko/TheNavySeals/blob/main/2_Seal_detection.ipynb\" target=\"_parent\"><img src=\"https://colab.research.google.com/assets/colab-badge.svg\" alt=\"Open In Colab\"/></a>"
      ]
    },
    {
      "cell_type": "markdown",
      "source": [
        "# U-net seal detecion"
      ],
      "metadata": {
        "id": "a0_yjeoRwy7w"
      }
    },
    {
      "cell_type": "markdown",
      "source": [
        "## Import Libraries"
      ],
      "metadata": {
        "id": "_vkSqFcmPPb0"
      }
    },
    {
      "cell_type": "code",
      "execution_count": null,
      "metadata": {
        "id": "9nKC5G-jvkzL"
      },
      "outputs": [],
      "source": []
    },
    {
      "cell_type": "markdown",
      "source": [
        "### Define path and load train and test data\n"
      ],
      "metadata": {
        "id": "Gi3NAuRRPTrK"
      }
    },
    {
      "cell_type": "code",
      "source": [
        "file_path = \"/content/drive/MyDrive/Colab/Navy_seal\""
      ],
      "metadata": {
        "id": "C2s7hu-1PdNF"
      },
      "execution_count": 1,
      "outputs": []
    },
    {
      "cell_type": "code",
      "source": [
        "X_train =\n",
        "Y_train =\n",
        "\n",
        "X_test =\n",
        "Y_test =\n"
      ],
      "metadata": {
        "id": "HwEBjqchPvrC"
      },
      "execution_count": null,
      "outputs": []
    },
    {
      "cell_type": "markdown",
      "source": [
        "###Model generation (U-Net) and training"
      ],
      "metadata": {
        "id": "v2D06z9bQ53e"
      }
    },
    {
      "cell_type": "markdown",
      "source": [
        "#### Check GPU"
      ],
      "metadata": {
        "id": "UgLpO-iqdNue"
      }
    },
    {
      "cell_type": "code",
      "source": [
        "#check the GPU colab assigns to you\n",
        "gpu_info = !nvidia-smi\n",
        "gpu_info = '\\n'.join(gpu_info)\n",
        "if gpu_info.find('failed') >= 0:\n",
        "  print('Select the Runtime > \"Change runtime type\" menu to enable a GPU accelerator, ')\n",
        "  print('and then re-execute this cell.')\n",
        "else:\n",
        "  print(gpu_info)"
      ],
      "metadata": {
        "id": "aFw52534Pkbm"
      },
      "execution_count": null,
      "outputs": []
    }
  ]
}